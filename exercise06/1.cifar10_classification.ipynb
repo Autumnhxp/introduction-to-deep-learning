{
 "cells": [
  {
   "cell_type": "markdown",
   "metadata": {
    "id": "g6vUCiE_N5eU"
   },
   "source": [
    "# Cifar10 Classification"
   ]
  },
  {
   "cell_type": "markdown",
   "metadata": {
    "id": "X9ridWdTN5eY"
   },
   "source": [
    "Until now, we have implemented several pieces of a deep learning pipeline and trained a two-layer neural network, but all hyperparameters were pre-set to values yielding resonable results. However, in real problems a large part of the work will be geared towards finding the best hyperparameter settings for a certain problem. In this notebook we will explore some good practices for network debugging and hyperparameters search, as well as extending our binary classification neural network to a multi-class one.\n",
    "\n",
    "Let's go!"
   ]
  },
  {
   "cell_type": "markdown",
   "metadata": {
    "id": "4sTNILP7OCzb"
   },
   "source": [
    "## (Optional) Mount folder in Colab\n",
    "\n",
    "Uncomment the following cell to mount your gdrive if you are using the notebook in google colab:"
   ]
  },
  {
   "cell_type": "code",
   "execution_count": null,
   "metadata": {
    "colab": {
     "base_uri": "https://localhost:8080/"
    },
    "executionInfo": {
     "elapsed": 35664,
     "status": "ok",
     "timestamp": 1650011700447,
     "user": {
      "displayName": "Weber Anna",
      "userId": "18154618360144454414"
     },
     "user_tz": -120
    },
    "id": "PoG-5okpOPht",
    "outputId": "a670ffa3-ee59-4ef5-e323-3f3fec373486"
   },
   "outputs": [],
   "source": [
    "\"\"\"\"\"\n",
    "from google.colab import drive\n",
    "import os\n",
    "\n",
    "gdrive_path='/content/gdrive/MyDrive/i2dl/exercise_06'\n",
    "\n",
    "# This will mount your google drive under 'MyDrive'\n",
    "drive.mount('/content/gdrive', force_remount=True)\n",
    "# In order to access the files in this notebook we have to navigate to the correct folder\n",
    "os.chdir(gdrive_path)\n",
    "# Check manually if all files are present\n",
    "print(sorted(os.listdir()))\n",
    "\"\"\"\"\""
   ]
  },
  {
   "cell_type": "code",
   "execution_count": 1,
   "metadata": {
    "id": "JZmN1ATIN5eY"
   },
   "outputs": [],
   "source": [
    "# Some lengthy setup.\n",
    "import matplotlib.pyplot as plt\n",
    "import numpy as np\n",
    "import os\n",
    "import urllib.request\n",
    "\n",
    "from exercise_code.networks.layer import (\n",
    "    Sigmoid, \n",
    "    Relu, \n",
    "    LeakyRelu, \n",
    "    Tanh,\n",
    ")\n",
    "from exercise_code.data import (\n",
    "    DataLoader,\n",
    "    ImageFolderDataset,\n",
    "    MemoryImageFolderDataset,\n",
    "    RescaleTransform,\n",
    "    NormalizeTransform,\n",
    "    FlattenTransform,\n",
    "    ComposeTransform,\n",
    ")\n",
    "from exercise_code.data.image_folder_dataset import RandomHorizontalFlip\n",
    "from exercise_code.networks import (\n",
    "    ClassificationNet,\n",
    "    BCE,\n",
    "    CrossEntropyFromLogits\n",
    ")\n",
    "\n",
    "%load_ext autoreload\n",
    "%autoreload 2\n",
    "%matplotlib inline\n",
    "\n",
    "plt.rcParams['figure.figsize'] = (10.0, 8.0) # set default size of plots\n",
    "plt.rcParams['image.interpolation'] = 'nearest'\n",
    "plt.rcParams['image.cmap'] = 'gray'"
   ]
  },
  {
   "cell_type": "markdown",
   "metadata": {
    "id": "tRdaBwnMN5ea"
   },
   "source": [
    "# 1. Quick recap (and some new things)"
   ]
  },
  {
   "cell_type": "markdown",
   "metadata": {
    "id": "zsNrBTkyN5eb"
   },
   "source": [
    "Until now, in the previous exercises, we focused on building and understanding all the necessary modules for training a simple model. We followed the Pytorch implementations closely, as this is the framework we will use later and we wanted you to have a smoother transition to its APIs. \n",
    "\n",
    "In the figure below you can see the main components in Pytorch. Let's start with a quick recap of **our implementation** of these components. \n",
    "\n",
    "<div class=\"alert alert-success\">\n",
    "    <h3>Task: Check Code</h3>\n",
    "    <p>Everything is already implemented for this part, but we <b>strongly</b> encourage you to check  the respective source files in order to have a better understanding. </p>\n",
    "</div>"
   ]
  },
  {
   "cell_type": "markdown",
   "metadata": {
    "id": "reTr9-VRN5ec"
   },
   "source": [
    "<img src=\"https://cdn-images-1.medium.com/max/800/1*uZrS4KjAuSJQIJPgOiaJUg.png\" style=\"width: 500px;\">"
   ]
  },
  {
   "cell_type": "markdown",
   "metadata": {
    "id": "4fZoL6hvN5ec"
   },
   "source": [
    "## 1.1 Dataset and Dataloader"
   ]
  },
  {
   "cell_type": "markdown",
   "metadata": {
    "id": "jvv1QqmJN5ed"
   },
   "source": [
    "Data preparation is an important part of deep learning projects. Because the data can come in different formats and from different sources, it must be prepared in a certain way, which depends on the application. One part, however, is uniform: since an entire dataset is usually too large to handle at once, we train our models on smaller batches of data. \n",
    "\n",
    "The goal of the ```Dataset``` class is to encapsulate all the 'dirty' data processing: loading and cleaning the data, storing features (or names of files where features can be found) and labels, as well as providing the means for accessing individual (transformed) items of the data using the ```__getitem__()``` function and an index. You already implemented an ```ImageFolderDataset``` (in ```exercise_code/data/image_folder_dataset.py```) class in Exercise 3. We we will reuse this class here.\n",
    "\n",
    "For processing the data, you implemented several transforms in Exercise 3 (```RescaleTransform```, ```NormalizeTransform```, ```ComposeTransform```). In this exercise we are working with images, which are multidimensional arrays, but we are using a simple feedforward neural network which takes an one dimensional array as an input, so it is necessary to reshape the images before feeding them into the model. \n",
    "\n",
    "<div class=\"alert alert-success\">\n",
    "    <h3>Task: Check Code</h3>\n",
    "    <p>Please check the implementation of the reshape operation in the <code>FlattenTransform</code> class, which can be found in <code>../exercise_06/exercise_code/data/image_folder_dataset.py</code>. </p>\n",
    "</div>"
   ]
  },
  {
   "cell_type": "code",
   "execution_count": 2,
   "metadata": {},
   "outputs": [],
   "source": [
    "download_url = \"https://i2dl.dvl.in.tum.de/downloads/cifar10.zip\"\n",
    "i2dl_exercises_path = os.path.dirname(os.path.abspath(os.getcwd()))\n",
    "cifar_root = os.path.join(i2dl_exercises_path, \"datasets\", \"cifar10\")"
   ]
  },
  {
   "cell_type": "markdown",
   "metadata": {},
   "source": [
    "## The usual memory vs local data warning\n",
    "If you are using google colab or store your files on a local HDD, iterating over dataset takes quite some time and blablabla. You know the drill by now ;).\n",
    "\n",
    "<div class=\"alert alert-danger\">\n",
    "    <h3>Warning</h3>\n",
    "    <p>Loading the whole dataset into memory will not work if you are using a machine with 4GB of RAM or less (depending on your other programs such as memory hungry web browsers). Consider closing some open programs or simply use the local on-demand ImageFolderDataset.</p>\n",
    "    <p>In addition we want to warn you that everytime you execute a cell like \"dataset2 = MemoryImageFolderDataset...\" you are loading a 1.2GB matrix into your memory. If you do this often enough this notebook will crash on every machine. Therefore, we make sure to always use a single variable \"dataset\" which will be overwritten by future cells to avoid straining your memory too much.</p>\n",
    "</div>"
   ]
  },
  {
   "cell_type": "code",
   "execution_count": 3,
   "metadata": {},
   "outputs": [],
   "source": [
    "# Choose your preferred dataset here\n",
    "\n",
    "DATASET = ImageFolderDataset\n",
    "#DATASET = MemoryImageFolderDataset"
   ]
  },
  {
   "cell_type": "markdown",
   "metadata": {},
   "source": [
    "Now that that is taken care of, back to the actual loading."
   ]
  },
  {
   "cell_type": "code",
   "execution_count": 4,
   "metadata": {
    "id": "2fHY8xTPN5ee"
   },
   "outputs": [],
   "source": [
    "# Use the Cifar10 mean and standard deviation computed in Exercise 3.\n",
    "cifar_mean = np.array([0.49191375, 0.48235852, 0.44673872])\n",
    "cifar_std  = np.array([0.24706447, 0.24346213, 0.26147554])\n",
    "\n",
    "# Define all the transforms we will apply on the images when \n",
    "# retrieving them.\n",
    "rescale_transform = RescaleTransform()\n",
    "normalize_transform = NormalizeTransform(\n",
    "    mean=cifar_mean,\n",
    "    std=cifar_std\n",
    ")\n",
    "flatten_transform = FlattenTransform()\n",
    "compose_transform = ComposeTransform([rescale_transform, \n",
    "                                      normalize_transform,\n",
    "                                      flatten_transform])\n",
    "\n",
    "# Create a train, validation and test dataset.\n",
    "datasets = {}\n",
    "for mode in ['train', 'val', 'test']:\n",
    "    crt_dataset = DATASET(\n",
    "        mode=mode,\n",
    "        root=cifar_root, \n",
    "        transform=compose_transform,\n",
    "        split={'train': 0.6, 'val': 0.2, 'test': 0.2}\n",
    "    )\n",
    "    datasets[mode] = crt_dataset"
   ]
  },
  {
   "cell_type": "markdown",
   "metadata": {
    "id": "FsR4dM2kN5ee"
   },
   "source": [
    "Then, based on this ```Dataset``` object, we can construct a ```Dataloader``` object which samples a random mini-batch of data at once. "
   ]
  },
  {
   "cell_type": "code",
   "execution_count": 5,
   "metadata": {
    "id": "3t4Xj_n3N5ef"
   },
   "outputs": [],
   "source": [
    "# Create a dataloader for each split.\n",
    "dataloaders = {}\n",
    "for mode in ['train', 'val', 'test']:\n",
    "    crt_dataloader = DataLoader(\n",
    "        dataset=datasets[mode],\n",
    "        batch_size=256,\n",
    "        shuffle=True,\n",
    "        drop_last=True,\n",
    "    )\n",
    "    dataloaders[mode] = crt_dataloader"
   ]
  },
  {
   "cell_type": "markdown",
   "metadata": {
    "id": "CpruSFLkN5ef"
   },
   "source": [
    "Because the ```Dataloader``` has the ```__iter__()``` method, we can simply iterate through the batches it produces, like this:\n",
    "\n",
    "```python\n",
    "for batch in dataloader['train']:\n",
    "    do_something(batch)\n",
    "```"
   ]
  },
  {
   "cell_type": "markdown",
   "metadata": {
    "id": "L81EGyslN5eg"
   },
   "source": [
    "## 1.2 Data Augmentation\n",
    "\n",
    "After the preprocessing steps, our data is in a good shape and ready to be fed into our network. As explained in the chapter above, we used the transformation functions `RescaleTransform`, `NormalizeTransform` and `FlattenTransform` to achieve this shape. These are the general steps that you need to perform on the data before you can start training. Of course, all these steps have to be applied to our three dataset splits (train, val and test split). In other words, preprocessing involves preparing the data before is can be used for training and inference. \n",
    "\n",
    "Besides these basic transformations, there are many other transformation methods that you can apply to the images. For example, you can <b>flip the images horizontally</b> or <b>blur the images</b> and use these new images to enlarge the dataset. This idea is called Data Augmentation and it involves methods that alter the training images to generate a synthetic dataset that is larger than your original dataset. This will hopefully improve the performance of your model. There is one important difference between data augmentation and data preprocessing: The transformation methods used to enlarge your dataset should only be applied to the training data. The validation and test data should not be affected by these methods.\n",
    "\n",
    "<div class=\"alert alert-success\">\n",
    "    <h3>Task: Check Code</h3>\n",
    "    <p>The choice of transformation methods for data augmentation can be seen as a hyperparameter of your model. You can try to include these to enlarge your training data and obtain better results for your model. In <code>exercise_code/data/image_folder_dataset.py</code> we implemented the function <code>RandomHorizontalFlip</code> for you, which is randomly flipping an image. Check out the implementation.</p>\n",
    "    <p> Later, we will perform hyperparameter tuning. In order to improve your model's performance, you can include some other data augmentation methods. Feel free to play around and to implement other methods as for example Gaussian Blur or Rotation. </p>       \n",
    "</div>\n",
    "\n",
    "Let us quickly check the `RandomHorizontalFlip` method with an image of the Cifar10 dataset in the following cell."
   ]
  },
  {
   "cell_type": "code",
   "execution_count": 6,
   "metadata": {
    "colab": {
     "base_uri": "https://localhost:8080/",
     "height": 98
    },
    "executionInfo": {
     "elapsed": 962,
     "status": "ok",
     "timestamp": 1650011739465,
     "user": {
      "displayName": "Weber Anna",
      "userId": "18154618360144454414"
     },
     "user_tz": -120
    },
    "id": "3BEjmTGHN5eg",
    "outputId": "a6adee5b-1dd4-436c-e811-952f4ae12e5f"
   },
   "outputs": [
    {
     "data": {
      "image/png": "[encoded data removed]",
      "text/plain": [
       "<Figure size 144x144 with 2 Axes>"
      ]
     },
     "metadata": {
      "needs_background": "light"
     },
     "output_type": "display_data"
    }
   ],
   "source": [
    "#Load the data in a dataset without any transformation \n",
    "dataset = DATASET(\n",
    "        mode=mode,\n",
    "        root=cifar_root, \n",
    "        download_url=download_url,\n",
    "        split={'train': 0.6, 'val': 0.2, 'test': 0.2},\n",
    "    )\n",
    "\n",
    "#Retrieve an image from the dataset and flip it\n",
    "image = dataset[1]['image']\n",
    "transform = RandomHorizontalFlip(1)\n",
    "image_flipped = transform(image)\n",
    "\n",
    "#Show the two images\n",
    "plt.figure(figsize = (2,2))\n",
    "plt.subplot(1, 2, 1)\n",
    "plt.imshow(image.astype('uint8'))\n",
    "plt.axis('off')\n",
    "plt.subplot(1, 2, 2)\n",
    "plt.imshow(image_flipped.astype('uint8'))\n",
    "plt.axis('off')\n",
    "plt.title(\"Left: Original Image, Right: Flipped image\")\n",
    "plt.show()"
   ]
  },
  {
   "cell_type": "markdown",
   "metadata": {
    "id": "WKNRU4BWN5eg"
   },
   "source": [
    "## 1.3 Layers\n",
    "\n",
    "Now, that the data is prepared, we can take a look at the model we are using. In our case it will be a neural network. \n",
    "\n",
    "In Exercise 5, you implemented a simple 2-layer neural network that had a hidden size as a parameter:\n",
    "\n",
    "$$ \n",
    "{\\hat{y}} = \\sigma(\\sigma({x W_1} + {b_1}) {W_2} + {b_2}) \n",
    "$$\n",
    "\n",
    "where $ \\sigma({x}) $ was the sigmoid function, $ {x} $ was the input, $ {W_1}, {W_2} $ the weight matrices and $ {b_1}, {b_2}$ the biases for the two layers.\n",
    "\n",
    "This is how we used this network:"
   ]
  },
  {
   "cell_type": "code",
   "execution_count": 7,
   "metadata": {
    "id": "6zta7tzkN5eg"
   },
   "outputs": [],
   "source": [
    "input_size = datasets['train'][0]['image'].shape[0]\n",
    "model = ClassificationNet(input_size=input_size, \n",
    "                          hidden_size=512)"
   ]
  },
  {
   "cell_type": "markdown",
   "metadata": {
    "id": "UpAoXE7nN5eh"
   },
   "source": [
    "Note that we updated the ```ClassificationNet``` from the previous exercise. Now you can customize the number of outputs, the choice of activation function, the hidden size etc. We encourage you to check the implementation in ```exercise_code/networks/classification_net.py``` "
   ]
  },
  {
   "cell_type": "code",
   "execution_count": 8,
   "metadata": {
    "id": "7wzEaw66N5eh"
   },
   "outputs": [],
   "source": [
    "num_layer = 2\n",
    "reg = 0.1\n",
    "\n",
    "model = ClassificationNet(activation=Sigmoid(), \n",
    "                          num_layer=num_layer, \n",
    "                          reg=reg,\n",
    "                          num_classes=10)"
   ]
  },
  {
   "cell_type": "markdown",
   "metadata": {
    "id": "x70gjgkDN5eh"
   },
   "source": [
    "Performing the forward and backward passes through the model was quite simple:\n",
    "\n",
    "```python\n",
    "\n",
    "# X is a batch of training features \n",
    "# X.shape = (batch_size, features_size)\n",
    "y_out = model.forward(X)\n",
    "\n",
    "# dout is the gradient of the loss function w.r.t the output of the network.\n",
    "# dout.shape = (batch_size, )\n",
    "model.backward(dout)\n",
    "```"
   ]
  },
  {
   "cell_type": "markdown",
   "metadata": {
    "id": "dlwNcT2RN5eh"
   },
   "source": [
    "Just as the learning rate or the number of epochs we want to train for, the number of hidden layers and the number of units in each hidden layer are also hyperparameters that we can tune. In this notebook you can play with networks of different sizes to see the impact that the network capacity has.\n",
    "\n",
    "Before we move on to the loss functions, let's have a look at the activation functions. The choice of an activation function can have a huge impact on the performance of the network you are designing. So far, you have implemented the `Sigmoid` and the `Relu` activation functions in Exercise 5. \n",
    "\n",
    "<div class=\"alert alert-success\">\n",
    "    <h3>Task: Check Code</h3>\n",
    "    <p>Take a look at the <code>Sigmoid</code> and the <code>Relu</code> class in <code>exercise_code/networks/layer.py</code> and the implementation of the respective forward and backward passes. Make sure to understand why we used <b>element-wise product</b> instead of dot product in the backward pass of the <code>Sigmoid</code> class to compute the gradient $dx$. That will be helpful for your later implementation of other activation functions.</p>\n",
    "    <p> <b>Note:</b> The <code>cache</code> variable is used to store information from the forward pass and then pass this information in the backward pass to make use of it there. The implementation of both classes shows that this variable can be used differently - depending on which information is needed in the backward pass. </p>\n",
    "</div>\n",
    "\n",
    "Now, we want to have a look at two other, very common activation functions that you have already seen in the lecture: Leaky ReLU activation function and Tanh activation function. \n",
    "\n",
    "**Leaky Relus** are one attempt to fix the “dying ReLU” problem. Instead of the function being zero when $x<0$, a leaky ReLU has a small negative slope (for example, 0.01).  The function computes $f(x) = \\mathbb{1}(x < 0) (\\alpha x) + \\mathbb{1}(x>=0) (x)$ where $\\alpha$ is a small constant. Some people report success with this form of activation function, but the results are not always consistent.\n",
    "\n",
    "The **tanh non-linearity** squashes a real-valued number into the range [-1, 1]. Like the sigmoid neuron, its activations saturate, but unlike the sigmoid neuron its output is zero-centered. Therefore, in practice the tanh non-linearity is always preferred to the sigmoid non-linearity. Also note that the tanh neuron is simply a scaled sigmoid neuron, in particular the following holds: $\\tanh(x) = 2 \\cdot \\sigma(2x) -1$.\n",
    "\n",
    "<img class=left src=https://pytorch.org/docs/stable/_images/LeakyReLU.png alt=\"Figure3\" width=\"350\" align='left'/> \n",
    "<img class=right src=https://pytorch.org/docs/stable/_images/Tanh.png alt=\"Figure4\" width=\"350\"/>\n",
    "\n",
    "<div class=\"alert alert-info\">\n",
    "    <h3>Task: Implement Activation Layers</h3>\n",
    "    <p> Now, it is your turn to implement the <code>LeakyRelu</code> and the <code>Tanh</code> class in <code>exercise_code/networks/layer.py</code> by completing the <code>forward</code> and the <code>backward</code> functions. You can test your implementation in the following two cells. </p>\n",
    "    <p> <b>Note:</b> Always remember to return a cache in <code>forward</code> for later backpropagation in <code>backward</code>. As we have seen above, the <code>cache</code> variable can be used differently for two activation functions.</p>\n",
    "</div>\n",
    "\n",
    "Use this cell to test your implementation of the `LeakyRelu` class:"
   ]
  },
  {
   "cell_type": "code",
   "execution_count": 9,
   "metadata": {
    "colab": {
     "base_uri": "https://localhost:8080/"
    },
    "executionInfo": {
     "elapsed": 854,
     "status": "ok",
     "timestamp": 1650011740634,
     "user": {
      "displayName": "Weber Anna",
      "userId": "18154618360144454414"
     },
     "user_tz": -120
    },
    "id": "v0LYvwHmN5ei",
    "outputId": "e124210f-f387-45b4-cd23-b0444c894b10"
   },
   "outputs": [
    {
     "name": "stdout",
     "output_type": "stream",
     "text": [
      "LeakyReluForwardTest passed.\n",
      "LeakyReluBackwardTest passed.\n",
      "Congratulations you have passed all the unit tests!!! Tests passed: 2/2\n",
      "Score: 100/100\n",
      "You secured a score of :100\n"
     ]
    }
   ],
   "source": [
    "from exercise_code.tests.layer_tests import *\n",
    "print(LeakyReluTestWrapper()())"
   ]
  },
  {
   "cell_type": "markdown",
   "metadata": {
    "id": "kOkiYhe_N5ei"
   },
   "source": [
    "And this cell to test your implementation of the `Tanh` class:"
   ]
  },
  {
   "cell_type": "code",
   "execution_count": 10,
   "metadata": {
    "colab": {
     "base_uri": "https://localhost:8080/"
    },
    "executionInfo": {
     "elapsed": 11,
     "status": "ok",
     "timestamp": 1650011740635,
     "user": {
      "displayName": "Weber Anna",
      "userId": "18154618360144454414"
     },
     "user_tz": -120
    },
    "id": "Do-AHImrN5ei",
    "outputId": "b4c5a743-2ae6-4700-e052-4c9c4a220d08"
   },
   "outputs": [
    {
     "name": "stdout",
     "output_type": "stream",
     "text": [
      "TanhForwardTest passed.\n",
      "TanhBackwardTest passed.\n",
      "Congratulations you have passed all the unit tests!!! Tests passed: 2/2\n",
      "Score: 100/100\n",
      "You secured a score of :100\n"
     ]
    }
   ],
   "source": [
    "print(TanhTestWrapper()())"
   ]
  },
  {
   "cell_type": "markdown",
   "metadata": {
    "id": "Mw_iJW4dN5ej"
   },
   "source": [
    "Congratulations, you implemented four different activation functions! These activation layers are now ready to be used when you start building your own network."
   ]
  },
  {
   "cell_type": "markdown",
   "metadata": {
    "id": "3MhxqP2LN5ej"
   },
   "source": [
    "## 1.4 Loss\n",
    "\n",
    "In order to measure how well a network is performing, we implemented several ```Loss``` classes (```L1```, ```MSE```, ```BCE```, each preferred for a certain type of problems) in ```exercise_code/networks/loss.py```.\n",
    "\n",
    "Each contains a ```forward()``` method, which outputs a number we can use as a measure for our network's performance. \n",
    "\n",
    "Since our goal is to change the weights of the network in a way that this loss measure decreases, we are also interested in the gradients of the loss w.r.t the outputs of the network, $ \\nabla_{\\hat{y}} L({\\hat{y}}, {y}) $. This was implemented in ```backward()```. \n",
    "\n",
    "In previous exercises, we worked on binary classification problems and therefore used binary cross entropy (```BCE```) as a loss function.\n",
    "\n",
    "$$ BCE(\\hat{y}, y) = \\frac{1}{N} \\sum_{i=1}^N \\Big [-y_i \\log(\\hat{y_i}) - (1-y_i) \\log(1 - \\hat{y_i}) \\Big] $$ \n",
    "\n",
    "where\n",
    "- $ N $ was the number of samples we were considering\n",
    "- $\\hat{y}_i$ was the network's prediction for sample $i$. Note that this was a valid probability $\\in [0, 1]$, because we applied a [sigmoid](https://en.wikipedia.org/wiki/Sigmoid_function) activation on the last layer. \n",
    "- $ y_i $ was the ground truth label (0 or 1, depending on the class)\n",
    "\n",
    "Since we have 10 classes in the CIFAR10 dataset, we need a generalization of the binary cross entropy loss to multiple classes. This generalization is called the cross entropy loss and is defined as:\n",
    "$$ CE(\\hat{y}, y) = \\frac{1}{N} \\sum_{i=1}^N \\sum_{k=1}^{C} \\Big[ -y_{ik} \\log(\\hat{y}_{ik}) \\Big] $$\n",
    "\n",
    "where:\n",
    "- $ N $ is the number of samples\n",
    "- $ C $ is the number of classes\n",
    "- $ \\hat{y}_{ik} $ is the probability that the model assigns for the $k$th class when the $i$th sample is the input. **Because we don't apply any activation function on the last layer of our network, its outputs for each sample will not be a valid probability distribution over the classes. We call these the raw outputs of the network '[logits](https://datascience.stackexchange.com/questions/31041/what-does-logits-in-machine-learning-mean/31045)' and we will apply a [softmax](https://en.wikipedia.org/wiki/Softmax_function) activation in order to obtain a valid probability distribution.** \n",
    "- $y_{ik} = 1 $ iff the true label of the $i$th sample is $k$ and 0 otherwise. This is called a [one-hot encoding](https://machinelearningmastery.com/why-one-hot-encode-data-in-machine-learning/).\n",
    "\n",
    "You can check for yourself that if the number of classes $ C $ is 2, the binary cross entropy is actually equivalent to the cross entropy.\n",
    "\n",
    "<div class=\"alert alert-success\">\n",
    "    <h3>Task: Check Code</h3>\n",
    "    <p>Please check the implementation of the <code>CrossEntropyFromLogits</code> class, which can be found in <code>../exercise_06/exercise_code/networks/loss.py</code>. </p>\n",
    "</div>"
   ]
  },
  {
   "cell_type": "code",
   "execution_count": 11,
   "metadata": {
    "id": "EBPuFF0BN5ej"
   },
   "outputs": [],
   "source": [
    "loss = CrossEntropyFromLogits()"
   ]
  },
  {
   "cell_type": "markdown",
   "metadata": {
    "id": "y1HcQs25N5ek"
   },
   "source": [
    "We can simply get the results of the forward and backward passes as follows:"
   ]
  },
  {
   "cell_type": "markdown",
   "metadata": {
    "id": "Jv2aujOvN5ek"
   },
   "source": [
    "```python\n",
    "# y_out is the output of the neural network\n",
    "# y_truth is the actual label from the dataset\n",
    "loss.forward(y_out, y_truth)\n",
    "loss.backward(y_out, y_truth)\n",
    "```"
   ]
  },
  {
   "cell_type": "markdown",
   "metadata": {
    "id": "dbFSP4z9N5ek"
   },
   "source": [
    "## 1.5 Optimizer\n",
    "\n",
    "Now that we know the gradient of the loss w.r.t the ouputs of the network, as well as the local gradient for each layer of the network, we can use the chain rule to compute all gradients. \n",
    "\n",
    "<div class=\"alert alert-success\">\n",
    "    <h3>Task: Check Code</h3>\n",
    "    <p>We implemented several optimizer classes <code>SGD</code>, <code>Adam</code>, <code>sgd_momentum</code> that use different first-order parameter update rules. Those can be found in <code>../exercise_06/exercise_code/networks/optimizer.py</code>. </p>\n",
    "    <p>The <code>step()</code> method used, iterates through all the parameters of the model and updates them using the gradient information.</p>\n",
    "</div>\n",
    "\n",
    "What the optimizer is doing, in pseudocode, is the following:\n",
    "\n",
    "```python\n",
    "for param in model:\n",
    "    # Use the gradient to update the weights.\n",
    "    update(param)\n",
    "    \n",
    "    # Reset the gradient after each update.\n",
    "    param.gradient = 0\n",
    "```\n",
    "\n",
    "```SGD``` had the simplest update rule:\n",
    "```python\n",
    "def update(param):\n",
    "    param = param - learning_rate * param.gradient\n",
    "```\n",
    "\n",
    "For the more complicated update rules, see ```exercise_code/networks/optimizer.py```"
   ]
  },
  {
   "cell_type": "markdown",
   "metadata": {
    "id": "0TE2PxMBN5ek"
   },
   "source": [
    "## 1.6 Solver\n",
    "\n",
    "The ```Solver``` is where all the above elements come together: Given a train and a validation dataloader, a model, a loss and an optimizer, it uses the training data to optimize a model in order to get better predictions. We simply call ```train()``` and it does its 'magic' for us!\n",
    "```python\n",
    "solver = Solver(model, \n",
    "                dataloaders['train'], \n",
    "                dataloaders['val'], \n",
    "                learning_rate=0.001, \n",
    "                loss_func=MSE(), \n",
    "                optimizer=SGD)\n",
    "\n",
    "solver.train(epochs=epochs)\n",
    "```\n",
    "\n",
    "<div class=\"alert alert-success\">\n",
    "    <h3>Task: Check Code</h3>\n",
    "    <p>Please check out the implementation of <code>train()</code> in <code>../exercise_06/exercise_code/solver.py</code>. </p>\n",
    "</div>"
   ]
  },
  {
   "cell_type": "markdown",
   "metadata": {
    "id": "QUFotyERN5ek"
   },
   "source": [
    "## 1.7 Weight Regularization\n",
    "\n",
    "Before finishing the recap, we want to take a look at some regularization methods that have been introduced in the lecture. Those can be helpful to improve the robustness of our model. In this chapter, we're talking about weight regularization methods.\n",
    "\n",
    "Weight regularization has been introduced to you as a method preventing the model from overfitting to the training data. The weight regularization term is added to the final loss and therefore encodes some preference for a certain set of weights $W$ over others. In the lecture, we compared two weight regularization methods and their respective preference for weight vectors. We made the following observations: \n",
    "\n",
    "1. L1 regularization: Enforces sparsity \n",
    "2. L2 regularization: Enforces that weights have similar values\n",
    "\n",
    "The most common weight regularization method is the L2 regularization. The L2 regularization prefers smaller and more diffuse weight vectors. Therefore, the model is encouraged to take all input dimensions into account rather than focusing strongly on a small number of input dimensions.\n",
    "\n",
    "When using weight regularization, the loss function is a composition of two parts:\n",
    "$$L = \\underbrace{\\frac{1}{N} \\sum_{i} L_i}_{\\text{data loss}}  + \\underbrace{\\lambda R(W)}_{\\text{regularization loss}}$$\n",
    "The first being the data loss, which is calculated using Cross Entropy loss in our model. The second part is called the regularization loss $R(W)$ and is computed in the L2 case as follows:\n",
    "$$R(W) = \\sum_{k} \\sum_{l} w_{k,l}^2$$"
   ]
  },
  {
   "cell_type": "markdown",
   "metadata": {
    "id": "DxExi4hQN5el"
   },
   "source": [
    "# 2. An overview of hyperparameters"
   ]
  },
  {
   "cell_type": "markdown",
   "metadata": {
    "collapsed": true,
    "id": "OdQde3JEN5el"
   },
   "source": [
    "\n",
    "<img src=https://images.deepai.org/glossary-terms/05c646fe1676490aa0b8cab0732a02b2/hyperparams.png alt=hyperparameter width=700>\n",
    "\n",
    "A **hyperparameter** is a parameter that is set before the learning process begins. Recall that the parameters of the weight matrix and the bias vector are learned during the learning process.\n",
    "\n",
    "The hyperparameter settings are essential, since they control and affect the whole training and therefore have a great impact on the model's performance. \n",
    "\n",
    "Some hyperparameters we have covered in lectures are:\n",
    "* Network architecture\n",
    "    * Choice of activation function\n",
    "    * Number of layers\n",
    "    * ...\n",
    "* Learning rate\n",
    "* Number of epochs\n",
    "* Batch size\n",
    "* Regularization strength\n",
    "* Momentum\n",
    "* ..."
   ]
  },
  {
   "cell_type": "markdown",
   "metadata": {
    "id": "Rn6g8Zw1N5el"
   },
   "source": [
    "## 2.1 Start debugging your own network!"
   ]
  },
  {
   "cell_type": "markdown",
   "metadata": {
    "id": "hUoj3OgzN5el"
   },
   "source": [
    "As already suggested in the lectures, you should always start from small and simple architectures, to make sure you are going the right way. \n",
    "\n",
    "As a first step you should try to overfit to a single training sample, then to a few batches of training samples and finally go deeper with larger neural networks and the whole training data.\n",
    "\n",
    "We provide a default neural network (i.e. ClassificationNet) with arbitrary number of layers, which is a generalization from a fixed 2-layer neural network in exercise 5. You are welcome to implement your own network, in that case just implement **MyOwnNetwork** in ```exercise_code/networks/classification_net.py```. You can also copy things from ClassficationNet and make little adjustments to your own network. Either way, just pick one network and comment out the other one, then run the cells below for debugging.\n",
    "\n",
    "<div class=\"alert alert-warning\">\n",
    "    <h3>Note:</h3>\n",
    "    <p>Please, make sure you don't modify the ClassificationNet itself. In this way you can always have a working network to fall back on.</p>\n",
    "    <p>In order to pass this submissions, you can <b>first stick to the default ClassificationNet implementation without changing any code at all</b>. The goal of this submission is to find reasonable hyperparameters and the parameter options of the ClassificationNet are broad enough to pass.</p>\n",
    "    <p>Once you have surpassed the submission goal, you can try to implement additional activation functions in the accompanying notebook, try different weight initializations or make other adjustments by writing your own network architecture in the MyOwnNetwork class.</p>\n",
    "</div>"
   ]
  },
  {
   "cell_type": "markdown",
   "metadata": {
    "id": "gij9DxvmN5el"
   },
   "source": [
    "First, let's start with a 2-layer neural network, and overfit to one single training sample.\n",
    "\n",
    "After training, let's evaluate the training process by plotting the loss curves."
   ]
  },
  {
   "cell_type": "code",
   "execution_count": 12,
   "metadata": {
    "colab": {
     "base_uri": "https://localhost:8080/"
    },
    "executionInfo": {
     "elapsed": 20902,
     "status": "ok",
     "timestamp": 1650011761531,
     "user": {
      "displayName": "Weber Anna",
      "userId": "18154618360144454414"
     },
     "user_tz": -120
    },
    "id": "S1k3JrlsN5el",
    "outputId": "1193ba97-9871-489f-d6a5-f21a3869f09c"
   },
   "outputs": [
    {
     "name": "stdout",
     "output_type": "stream",
     "text": [
      "(Epoch 1 / 20) train loss: 2.302640; val loss: 2.302663\n",
      "(Epoch 2 / 20) train loss: 2.302640; val loss: 2.303134\n",
      "(Epoch 3 / 20) train loss: 2.196578; val loss: 2.304772\n",
      "(Epoch 4 / 20) train loss: 1.963547; val loss: 2.308157\n",
      "(Epoch 5 / 20) train loss: 1.590663; val loss: 2.314203\n",
      "(Epoch 6 / 20) train loss: 1.110466; val loss: 2.324581\n",
      "(Epoch 7 / 20) train loss: 0.615248; val loss: 2.342090\n",
      "(Epoch 8 / 20) train loss: 0.248220; val loss: 2.369848\n",
      "(Epoch 9 / 20) train loss: 0.074462; val loss: 2.409045\n",
      "(Epoch 10 / 20) train loss: 0.019115; val loss: 2.458546\n",
      "(Epoch 11 / 20) train loss: 0.004715; val loss: 2.515999\n",
      "(Epoch 12 / 20) train loss: 0.001182; val loss: 2.578797\n",
      "(Epoch 13 / 20) train loss: 0.000309; val loss: 2.644605\n",
      "(Epoch 14 / 20) train loss: 0.000085; val loss: 2.711542\n",
      "(Epoch 15 / 20) train loss: 0.000025; val loss: 2.778175\n",
      "(Epoch 16 / 20) train loss: 0.000008; val loss: 2.843455\n",
      "(Epoch 17 / 20) train loss: 0.000003; val loss: 2.906637\n",
      "(Epoch 18 / 20) train loss: 0.000001; val loss: 2.967215\n",
      "(Epoch 19 / 20) train loss: 0.000000; val loss: 3.024864\n",
      "(Epoch 20 / 20) train loss: 0.000000; val loss: 3.079397\n"
     ]
    }
   ],
   "source": [
    "from exercise_code.solver import Solver\n",
    "from exercise_code.networks.optimizer import SGD, Adam\n",
    "from exercise_code.networks import MyOwnNetwork\n",
    "\n",
    "num_layer = 2\n",
    "epochs = 20\n",
    "reg = 0.1\n",
    "batch_size = 4\n",
    "\n",
    "model = ClassificationNet(num_layer=num_layer, reg=reg)\n",
    "model = MyOwnNetwork()\n",
    "\n",
    "loss = CrossEntropyFromLogits()\n",
    "\n",
    "# Make a new data loader with a single training image\n",
    "overfit_dataset = DATASET(\n",
    "    mode='train',\n",
    "    root=cifar_root, \n",
    "    download_url=download_url,\n",
    "    transform=compose_transform,\n",
    "    limit_files=1\n",
    ")\n",
    "dataloaders['train_overfit_single_image'] = DataLoader(\n",
    "    dataset=overfit_dataset,\n",
    "    batch_size=batch_size,\n",
    "    shuffle=True,\n",
    "    drop_last=False,\n",
    ")\n",
    "\n",
    "# Decrease validation data for only debugging\n",
    "debugging_validation_dataset = DATASET(\n",
    "    mode='val',\n",
    "    root=cifar_root, \n",
    "    download_url=download_url,\n",
    "    transform=compose_transform,\n",
    "    limit_files=100\n",
    ")\n",
    "dataloaders['val_500files'] = DataLoader(\n",
    "    dataset=debugging_validation_dataset,\n",
    "    batch_size=batch_size,\n",
    "    shuffle=True,\n",
    "    drop_last=True,\n",
    ")\n",
    "\n",
    "solver = Solver(model, dataloaders['train_overfit_single_image'], dataloaders['val_500files'], \n",
    "                learning_rate=1e-3, loss_func=loss, optimizer=Adam)\n",
    "\n",
    "solver.train(epochs=epochs)"
   ]
  },
  {
   "cell_type": "code",
   "execution_count": 13,
   "metadata": {
    "colab": {
     "base_uri": "https://localhost:8080/"
    },
    "executionInfo": {
     "elapsed": 434,
     "status": "ok",
     "timestamp": 1650011761941,
     "user": {
      "displayName": "Weber Anna",
      "userId": "18154618360144454414"
     },
     "user_tz": -120
    },
    "id": "aMc51VqHN5em",
    "outputId": "730d9eb6-6b24-4411-e6b9-c165a73a7e6e"
   },
   "outputs": [
    {
     "data": {
      "image/png": "[encoded data removed]",
      "text/plain": [
       "<Figure size 720x576 with 1 Axes>"
      ]
     },
     "metadata": {
      "needs_background": "light"
     },
     "output_type": "display_data"
    }
   ],
   "source": [
    "plt.title('Loss curves')\n",
    "plt.plot(solver.train_loss_history, '-', label='train')\n",
    "plt.plot(solver.val_loss_history, '-', label='val')\n",
    "plt.legend(loc='lower right')\n",
    "plt.xlabel('Iteration')\n",
    "plt.show()"
   ]
  },
  {
   "cell_type": "code",
   "execution_count": 14,
   "metadata": {
    "colab": {
     "base_uri": "https://localhost:8080/"
    },
    "executionInfo": {
     "elapsed": 244,
     "status": "ok",
     "timestamp": 1650011762177,
     "user": {
      "displayName": "Weber Anna",
      "userId": "18154618360144454414"
     },
     "user_tz": -120
    },
    "id": "cchvV2Q_N5em",
    "outputId": "6ba579ba-58ed-43e8-f3e7-97a51018ee4b"
   },
   "outputs": [
    {
     "name": "stdout",
     "output_type": "stream",
     "text": [
      "Training accuray: 1.00000\n",
      "Validation accuray: 0.07000\n"
     ]
    }
   ],
   "source": [
    "print(\"Training accuray: %.5f\" % (solver.get_dataset_accuracy(dataloaders['train_overfit_single_image'])))\n",
    "print(\"Validation accuray: %.5f\" % (solver.get_dataset_accuracy(dataloaders['val_500files'])))"
   ]
  },
  {
   "cell_type": "markdown",
   "metadata": {
    "id": "HeTCu8wwN5em"
   },
   "source": [
    "This time we want to overfit to a small set of training batch samples. Please observe the difference from above. "
   ]
  },
  {
   "cell_type": "code",
   "execution_count": 15,
   "metadata": {
    "colab": {
     "base_uri": "https://localhost:8080/"
    },
    "executionInfo": {
     "elapsed": 32205,
     "status": "ok",
     "timestamp": 1650011794379,
     "user": {
      "displayName": "Weber Anna",
      "userId": "18154618360144454414"
     },
     "user_tz": -120
    },
    "id": "SsIu_JaUN5em",
    "outputId": "81810746-ea3e-4a60-f3b7-dad4230c7231"
   },
   "outputs": [
    {
     "name": "stdout",
     "output_type": "stream",
     "text": [
      "(Epoch 1 / 100) train loss: 2.302864; val loss: 2.302559\n",
      "(Epoch 2 / 100) train loss: 2.308430; val loss: 2.317443\n",
      "(Epoch 3 / 100) train loss: 2.111599; val loss: 2.410679\n",
      "(Epoch 4 / 100) train loss: 1.501345; val loss: 2.650339\n",
      "(Epoch 5 / 100) train loss: 1.089668; val loss: 3.106729\n",
      "(Epoch 6 / 100) train loss: 0.706104; val loss: 3.562676\n",
      "(Epoch 7 / 100) train loss: 0.398744; val loss: 3.978316\n",
      "(Epoch 8 / 100) train loss: 0.201097; val loss: 4.330154\n",
      "(Epoch 9 / 100) train loss: 0.088370; val loss: 4.662116\n",
      "(Epoch 10 / 100) train loss: 0.041472; val loss: 4.944068\n",
      "(Epoch 11 / 100) train loss: 0.017119; val loss: 5.182112\n",
      "(Epoch 12 / 100) train loss: 0.009369; val loss: 5.375499\n",
      "(Epoch 13 / 100) train loss: 0.004870; val loss: 5.532097\n",
      "(Epoch 14 / 100) train loss: 0.002685; val loss: 5.655428\n",
      "(Epoch 15 / 100) train loss: 0.001837; val loss: 5.750865\n",
      "(Epoch 16 / 100) train loss: 0.001526; val loss: 5.825474\n",
      "(Epoch 17 / 100) train loss: 0.001032; val loss: 5.882213\n",
      "(Epoch 18 / 100) train loss: 0.001016; val loss: 5.925620\n",
      "(Epoch 19 / 100) train loss: 0.000745; val loss: 5.958522\n",
      "(Epoch 20 / 100) train loss: 0.000624; val loss: 5.983460\n",
      "(Epoch 21 / 100) train loss: 0.000714; val loss: 6.002629\n",
      "(Epoch 22 / 100) train loss: 0.000525; val loss: 6.017121\n",
      "(Epoch 23 / 100) train loss: 0.000498; val loss: 6.028409\n",
      "(Epoch 24 / 100) train loss: 0.000453; val loss: 6.037328\n",
      "(Epoch 25 / 100) train loss: 0.000485; val loss: 6.044582\n",
      "(Epoch 26 / 100) train loss: 0.000431; val loss: 6.050255\n",
      "(Epoch 27 / 100) train loss: 0.000537; val loss: 6.054838\n",
      "(Epoch 28 / 100) train loss: 0.000457; val loss: 6.058721\n",
      "(Epoch 29 / 100) train loss: 0.000404; val loss: 6.062172\n",
      "(Epoch 30 / 100) train loss: 0.000416; val loss: 6.065081\n",
      "(Epoch 31 / 100) train loss: 0.000412; val loss: 6.067826\n",
      "(Epoch 32 / 100) train loss: 0.000421; val loss: 6.070425\n",
      "(Epoch 33 / 100) train loss: 0.000429; val loss: 6.072849\n",
      "(Epoch 34 / 100) train loss: 0.000384; val loss: 6.075129\n",
      "(Epoch 35 / 100) train loss: 0.000360; val loss: 6.077489\n",
      "(Epoch 36 / 100) train loss: 0.000342; val loss: 6.079743\n",
      "(Epoch 37 / 100) train loss: 0.000336; val loss: 6.081952\n",
      "(Epoch 38 / 100) train loss: 0.000330; val loss: 6.084296\n",
      "(Epoch 39 / 100) train loss: 0.000318; val loss: 6.086416\n",
      "(Epoch 40 / 100) train loss: 0.000362; val loss: 6.088515\n",
      "(Epoch 41 / 100) train loss: 0.000339; val loss: 6.090587\n",
      "(Epoch 42 / 100) train loss: 0.000350; val loss: 6.092660\n",
      "(Epoch 43 / 100) train loss: 0.000329; val loss: 6.094794\n",
      "(Epoch 44 / 100) train loss: 0.000316; val loss: 6.096960\n",
      "(Epoch 45 / 100) train loss: 0.000325; val loss: 6.098901\n",
      "(Epoch 46 / 100) train loss: 0.000306; val loss: 6.100895\n",
      "(Epoch 47 / 100) train loss: 0.000335; val loss: 6.102775\n",
      "(Epoch 48 / 100) train loss: 0.000287; val loss: 6.104720\n",
      "(Epoch 49 / 100) train loss: 0.000294; val loss: 6.106587\n",
      "(Epoch 50 / 100) train loss: 0.000338; val loss: 6.108602\n",
      "(Epoch 51 / 100) train loss: 0.000286; val loss: 6.110660\n",
      "(Epoch 52 / 100) train loss: 0.000303; val loss: 6.112684\n",
      "(Epoch 53 / 100) train loss: 0.000275; val loss: 6.114658\n",
      "(Epoch 54 / 100) train loss: 0.000273; val loss: 6.116443\n",
      "(Epoch 55 / 100) train loss: 0.000299; val loss: 6.118225\n",
      "(Epoch 56 / 100) train loss: 0.000270; val loss: 6.119995\n",
      "(Epoch 57 / 100) train loss: 0.000298; val loss: 6.121730\n",
      "(Epoch 58 / 100) train loss: 0.000265; val loss: 6.123464\n",
      "(Epoch 59 / 100) train loss: 0.000242; val loss: 6.125136\n",
      "(Epoch 60 / 100) train loss: 0.000278; val loss: 6.126757\n",
      "(Epoch 61 / 100) train loss: 0.000274; val loss: 6.128452\n",
      "(Epoch 62 / 100) train loss: 0.000238; val loss: 6.130335\n",
      "(Epoch 63 / 100) train loss: 0.000231; val loss: 6.132211\n",
      "(Epoch 64 / 100) train loss: 0.000241; val loss: 6.134103\n",
      "(Epoch 65 / 100) train loss: 0.000225; val loss: 6.136055\n",
      "(Epoch 66 / 100) train loss: 0.000228; val loss: 6.137931\n",
      "(Epoch 67 / 100) train loss: 0.000226; val loss: 6.139735\n",
      "(Epoch 68 / 100) train loss: 0.000246; val loss: 6.141412\n",
      "(Epoch 69 / 100) train loss: 0.000255; val loss: 6.143164\n",
      "(Epoch 70 / 100) train loss: 0.000229; val loss: 6.145060\n",
      "(Epoch 71 / 100) train loss: 0.000231; val loss: 6.146957\n",
      "(Epoch 72 / 100) train loss: 0.000219; val loss: 6.148622\n",
      "(Epoch 73 / 100) train loss: 0.000215; val loss: 6.150223\n",
      "(Epoch 74 / 100) train loss: 0.000208; val loss: 6.151773\n",
      "(Epoch 75 / 100) train loss: 0.000230; val loss: 6.153393\n",
      "(Epoch 76 / 100) train loss: 0.000227; val loss: 6.154999\n",
      "(Epoch 77 / 100) train loss: 0.000244; val loss: 6.156650\n",
      "(Epoch 78 / 100) train loss: 0.000202; val loss: 6.158349\n",
      "(Epoch 79 / 100) train loss: 0.000223; val loss: 6.160100\n",
      "(Epoch 80 / 100) train loss: 0.000189; val loss: 6.161755\n",
      "(Epoch 81 / 100) train loss: 0.000197; val loss: 6.163515\n",
      "(Epoch 82 / 100) train loss: 0.000206; val loss: 6.165222\n",
      "(Epoch 83 / 100) train loss: 0.000209; val loss: 6.167001\n",
      "(Epoch 84 / 100) train loss: 0.000206; val loss: 6.168593\n",
      "(Epoch 85 / 100) train loss: 0.000183; val loss: 6.170182\n",
      "(Epoch 86 / 100) train loss: 0.000198; val loss: 6.171733\n",
      "(Epoch 87 / 100) train loss: 0.000203; val loss: 6.173320\n",
      "(Epoch 88 / 100) train loss: 0.000183; val loss: 6.174904\n",
      "(Epoch 89 / 100) train loss: 0.000198; val loss: 6.176405\n",
      "(Epoch 90 / 100) train loss: 0.000202; val loss: 6.177800\n",
      "(Epoch 91 / 100) train loss: 0.000205; val loss: 6.179345\n",
      "(Epoch 92 / 100) train loss: 0.000187; val loss: 6.181006\n",
      "(Epoch 93 / 100) train loss: 0.000183; val loss: 6.182581\n",
      "(Epoch 94 / 100) train loss: 0.000186; val loss: 6.184118\n",
      "(Epoch 95 / 100) train loss: 0.000182; val loss: 6.185612\n",
      "(Epoch 96 / 100) train loss: 0.000185; val loss: 6.187116\n",
      "(Epoch 97 / 100) train loss: 0.000161; val loss: 6.188451\n",
      "(Epoch 98 / 100) train loss: 0.000183; val loss: 6.189798\n",
      "(Epoch 99 / 100) train loss: 0.000170; val loss: 6.191308\n",
      "(Epoch 100 / 100) train loss: 0.000169; val loss: 6.192730\n"
     ]
    }
   ],
   "source": [
    "from exercise_code.networks import MyOwnNetwork\n",
    "\n",
    "num_layer = 2\n",
    "epochs = 100\n",
    "reg = 0.1\n",
    "num_samples = 10\n",
    "\n",
    "model = ClassificationNet(num_layer=num_layer, reg=reg)\n",
    "model = MyOwnNetwork()\n",
    "\n",
    "loss = CrossEntropyFromLogits()\n",
    "\n",
    "# Make a new data loader with a our num_samples training image\n",
    "overfit_dataset = DATASET(\n",
    "    mode='train',\n",
    "    root=cifar_root, \n",
    "    download_url=download_url,\n",
    "    transform=compose_transform,\n",
    "    limit_files=num_samples\n",
    ")\n",
    "dataloaders['train_overfit_10samples'] = DataLoader(\n",
    "    dataset=overfit_dataset,\n",
    "    batch_size=batch_size,\n",
    "    shuffle=True,\n",
    "    drop_last=False,\n",
    ")\n",
    "\n",
    "solver = Solver(model, dataloaders['train_overfit_10samples'], dataloaders['val_500files'], \n",
    "                learning_rate=1e-3, loss_func=loss, optimizer=Adam)\n",
    "\n",
    "solver.train(epochs=epochs)"
   ]
  },
  {
   "cell_type": "code",
   "execution_count": 16,
   "metadata": {
    "colab": {
     "base_uri": "https://localhost:8080/"
    },
    "executionInfo": {
     "elapsed": 15,
     "status": "ok",
     "timestamp": 1650011794380,
     "user": {
      "displayName": "Weber Anna",
      "userId": "18154618360144454414"
     },
     "user_tz": -120
    },
    "id": "DmzTCYw_N5en",
    "outputId": "8076912f-608c-497c-e092-3da5e9e8ddcd"
   },
   "outputs": [
    {
     "data": {
      "image/png": "[encoded data removed]",
      "text/plain": [
       "<Figure size 720x576 with 1 Axes>"
      ]
     },
     "metadata": {
      "needs_background": "light"
     },
     "output_type": "display_data"
    }
   ],
   "source": [
    "plt.title('Loss curves')\n",
    "plt.plot(solver.train_loss_history, '-', label='train')\n",
    "plt.plot(solver.val_loss_history, '-', label='val')\n",
    "plt.legend(loc='lower right')\n",
    "plt.xlabel('Iteration')\n",
    "plt.show()"
   ]
  },
  {
   "cell_type": "code",
   "execution_count": 17,
   "metadata": {
    "colab": {
     "base_uri": "https://localhost:8080/"
    },
    "executionInfo": {
     "elapsed": 822,
     "status": "ok",
     "timestamp": 1650011795194,
     "user": {
      "displayName": "Weber Anna",
      "userId": "18154618360144454414"
     },
     "user_tz": -120
    },
    "id": "8H8xyMcaN5en",
    "outputId": "55c1d949-949d-414f-8a34-fa85faa9ed9b"
   },
   "outputs": [
    {
     "name": "stdout",
     "output_type": "stream",
     "text": [
      "Training accuray: 1.00000\n",
      "Validation accuray: 0.10000\n"
     ]
    }
   ],
   "source": [
    "print(\"Training accuray: %.5f\" % (solver.get_dataset_accuracy(dataloaders['train_overfit_10samples'])))\n",
    "print(\"Validation accuray: %.5f\" % (solver.get_dataset_accuracy(dataloaders['val_500files'])))"
   ]
  },
  {
   "cell_type": "markdown",
   "metadata": {
    "id": "7PoTJskAN5en"
   },
   "source": [
    "If you're overfitting to the training data, that means the network's implementation is correct. However, as you have more samples to overfit, your accuracy will be way lower. You can increase the number of epochs above to achieve better results.\n",
    "\n",
    "Now let's try to feed all the training and validation data into the network, but this time let's set compare a 2-layer and a 5-layer network, using the same hyperparameters.\n",
    "\n",
    "<div class=\"alert alert-warning\">\n",
    "    <h3>Note:</h3>\n",
    "    <p>This may take about 1 min per epoch as the training set is quite large. For convenience, we are now only using 1000 images for training but use the full validation set.</p>\n",
    "</div>"
   ]
  },
  {
   "cell_type": "code",
   "execution_count": 18,
   "metadata": {
    "colab": {
     "background_save": true
    },
    "id": "ayhMGBUBN5en",
    "outputId": "0f77d4ee-a8c9-4ddc-e538-c1818c306acf"
   },
   "outputs": [
    {
     "name": "stdout",
     "output_type": "stream",
     "text": [
      "(Epoch 1 / 5) train loss: 2.302626; val loss: 2.302621\n",
      "(Epoch 2 / 5) train loss: 2.168754; val loss: 1.998282\n",
      "(Epoch 3 / 5) train loss: 1.911970; val loss: 2.117184\n",
      "(Epoch 4 / 5) train loss: 1.705612; val loss: 2.188585\n",
      "(Epoch 5 / 5) train loss: 1.446384; val loss: 2.511004\n"
     ]
    }
   ],
   "source": [
    "from exercise_code.networks import MyOwnNetwork\n",
    "\n",
    "num_layer = 2\n",
    "epochs = 5\n",
    "reg = 0.01\n",
    "\n",
    "# Make a new data loader with 1000 training samples\n",
    "num_samples = 1000\n",
    "overfit_dataset = DATASET(\n",
    "    mode='train',\n",
    "    root=cifar_root, \n",
    "    download_url=download_url,\n",
    "    transform=compose_transform,\n",
    "    limit_files=num_samples\n",
    ")\n",
    "dataloaders['train_small'] = DataLoader(\n",
    "    dataset=overfit_dataset,\n",
    "    batch_size=batch_size,\n",
    "    shuffle=True,\n",
    "    drop_last=False,\n",
    ")\n",
    "\n",
    "\n",
    "# Change here if you want to use the full training set\n",
    "use_full_training_set = False\n",
    "if not use_full_training_set:\n",
    "    train_loader = dataloaders['train_small']\n",
    "else:\n",
    "    train_loader = dataloaders['train']\n",
    "    \n",
    "\n",
    "model = ClassificationNet(num_layer=num_layer, reg=reg)\n",
    "model = MyOwnNetwork()\n",
    "\n",
    "loss = CrossEntropyFromLogits()\n",
    "\n",
    "solver = Solver(model, train_loader, dataloaders['val'], \n",
    "                learning_rate=1e-3, loss_func=loss, optimizer=Adam)\n",
    "\n",
    "solver.train(epochs=epochs)"
   ]
  },
  {
   "cell_type": "code",
   "execution_count": 19,
   "metadata": {
    "colab": {
     "background_save": true
    },
    "id": "3htGtgttN5en",
    "outputId": "6336d86c-13c1-40e5-9080-7aa5ed774959"
   },
   "outputs": [
    {
     "data": {
      "image/png": "[encoded data removed]",
      "text/plain": [
       "<Figure size 720x576 with 1 Axes>"
      ]
     },
     "metadata": {
      "needs_background": "light"
     },
     "output_type": "display_data"
    }
   ],
   "source": [
    "plt.title('Loss curves')\n",
    "plt.plot(solver.train_loss_history, '-', label='train')\n",
    "plt.plot(solver.val_loss_history, '-', label='val')\n",
    "plt.legend(loc='lower right')\n",
    "plt.xlabel('Iteration')\n",
    "plt.show()"
   ]
  },
  {
   "cell_type": "code",
   "execution_count": 20,
   "metadata": {
    "colab": {
     "background_save": true
    },
    "id": "oOVafQ7yN5eo",
    "outputId": "7207ecce-50aa-4e80-83ee-1d05529ab23a"
   },
   "outputs": [
    {
     "name": "stdout",
     "output_type": "stream",
     "text": [
      "Training accuray: 0.59900\n",
      "Validation accuray: 0.30739\n"
     ]
    }
   ],
   "source": [
    "print(\"Training accuray: %.5f\" % (solver.get_dataset_accuracy(train_loader)))\n",
    "print(\"Validation accuray: %.5f\" % (solver.get_dataset_accuracy(dataloaders['val'])))"
   ]
  },
  {
   "cell_type": "code",
   "execution_count": 21,
   "metadata": {
    "colab": {
     "background_save": true
    },
    "id": "vG9U5OmwN5eo",
    "outputId": "4aa8426b-eea9-4be8-bc08-6add66c4cf82"
   },
   "outputs": [
    {
     "name": "stdout",
     "output_type": "stream",
     "text": [
      "(Epoch 1 / 5) train loss: 2.302582; val loss: 2.302593\n",
      "(Epoch 2 / 5) train loss: 2.162813; val loss: 2.135004\n",
      "(Epoch 3 / 5) train loss: 1.905783; val loss: 2.051228\n",
      "(Epoch 4 / 5) train loss: 1.654014; val loss: 2.129432\n",
      "(Epoch 5 / 5) train loss: 1.437171; val loss: 2.406553\n"
     ]
    }
   ],
   "source": [
    "from exercise_code.networks import MyOwnNetwork\n",
    "\n",
    "num_layer = 5\n",
    "epochs = 5\n",
    "reg = 0.01\n",
    "\n",
    "model = ClassificationNet(num_layer=num_layer, reg=reg)\n",
    "model = MyOwnNetwork()\n",
    "\n",
    "# Change here if you want to use the full training set\n",
    "use_full_training_set = False\n",
    "if not use_full_training_set:\n",
    "    train_loader = dataloaders['train_small']\n",
    "else:\n",
    "    train_loader = dataloaders['train']\n",
    "\n",
    "loss = CrossEntropyFromLogits()\n",
    "\n",
    "solver = Solver(model, train_loader, dataloaders['val'], \n",
    "                learning_rate=1e-3, loss_func=loss, optimizer=Adam)\n",
    "\n",
    "solver.train(epochs=epochs)"
   ]
  },
  {
   "cell_type": "code",
   "execution_count": 22,
   "metadata": {
    "colab": {
     "background_save": true
    },
    "id": "08XZk2GYN5eo",
    "outputId": "3d04c7c9-a0ce-4522-c858-e9491fca8102"
   },
   "outputs": [
    {
     "data": {
      "image/png": "[encoded data removed]",
      "text/plain": [
       "<Figure size 720x576 with 1 Axes>"
      ]
     },
     "metadata": {
      "needs_background": "light"
     },
     "output_type": "display_data"
    }
   ],
   "source": [
    "plt.title('Loss curves')\n",
    "plt.plot(solver.train_loss_history, '-', label='train')\n",
    "plt.plot(solver.val_loss_history, '-', label='val')\n",
    "plt.legend(loc='lower right')\n",
    "plt.xlabel('Iteration')\n",
    "plt.show()"
   ]
  },
  {
   "cell_type": "code",
   "execution_count": 23,
   "metadata": {
    "colab": {
     "background_save": true
    },
    "id": "7-sI0yyWN5eo",
    "outputId": "29f489a2-6899-410e-9e82-8026cb77d505"
   },
   "outputs": [
    {
     "name": "stdout",
     "output_type": "stream",
     "text": [
      "Training accuray: 0.65300\n",
      "Validation accuray: 0.31300\n"
     ]
    }
   ],
   "source": [
    "print(\"Training accuray: %.5f\" % (solver.get_dataset_accuracy(train_loader)))\n",
    "print(\"Validation accuray: %.5f\" % (solver.get_dataset_accuracy(dataloaders['val'])))"
   ]
  },
  {
   "cell_type": "markdown",
   "metadata": {
    "id": "_nNdnSi4N5eo"
   },
   "source": [
    "As you can see from above, the same hyperparameter set can decrease the loss for a 2-layer network, but for 5-layer network, it hardly works.\n",
    "\n",
    "The steps above are already mentioned in the lectures as debugging steps before training a neural network. \n",
    "\n",
    "If you implement your own network, make sure you do the steps above before tuning the hyperparameters as below. "
   ]
  },
  {
   "cell_type": "markdown",
   "metadata": {
    "id": "l0pZa4weN5eo"
   },
   "source": [
    "## 2.2 Difficulty in tuning hyperparameters\n",
    "Small decisions on hyperparameters count. Usually, but not always, hyperparameters cannot be learned using well known gradient based methods (such as gradient descent), which are commonly employed to learn parameters. \n",
    "\n",
    "As mentioned before, hyperparameters need to be set before training. Tuning hyperparameters is hard, because you always have to try different combinations of the hyperparameters, train the network, do the validation and pick the best one. Besides, it is not guaranteed that you'll find the best combination.\n",
    "\n",
    "Let's do some hands on learning using the hyperparameter tuning methods covered in the lectures."
   ]
  },
  {
   "cell_type": "markdown",
   "metadata": {
    "id": "pDQl6fY6N5ep"
   },
   "source": [
    "# 3. Hyperparameter Tuning\n",
    "\n",
    "![alt text](https://blog.floydhub.com/content/images/2018/08/Screen-Shot-2018-08-22-at-17.59.25.png \"\")\n",
    "\n",
    "One of the main challenges in deep learning is finding the set of hyperparameters that performs best.\n",
    "\n",
    "So far, we have followed a manual approach by guessing hyperparameters, running the model, observing the result and maybe tweaking the hyperparameters based on this result. As you have probably noticed, this manual hyperparameter tuning is unstructured, inefficient and can become very tedious.\n",
    "\n",
    "\n",
    "A more systematic (and actually very simple) approach for hyperparameter tuning that you've already learned in the lecture  is implementing a **Grid Search**. \n",
    "\n",
    "\n",
    "\n",
    "## 3.1 Grid Search\n",
    "Grid search is a simple and naive, yet effective method to automate the hyperparameter tuning:\n",
    "\n",
    "* First, you define the set of parameters you want to tune, e.g. $\\{learning\\_rate, regularization\\_strength\\}$.\n",
    "\n",
    "* For each hyperparameter, you then define a set of possible values, e.g. $learning\\_rate = \\{0.0001, 0.001, 0.01, 0.1\\}$.\n",
    "\n",
    "* Then, you train a model for every possible combination of these hyperparameter values and afterwards select the combination that works best (e.g. in terms of accuracy on your validation set).\n",
    "\n",
    "<div class=\"alert alert-success\">\n",
    "    <h3>Task: Check Code</h3>\n",
    "    <p>Check out our <code>grid_search</code> implementation in <code>../exercise_6/exercise_code/hyperparameter_tuning.py</code>. We show a simple for loop implementation and a more sophisticated one for multiple inputs. </p>\n",
    "</div>\n",
    " \n",
    " <div class=\"alert alert-warning\">\n",
    "    <h3>Note:</h3>\n",
    "    <p>To keep things simple in the beginning, it'll be enough to just focus on the hyperparameters <code>learning_rate</code> and <code>regularization_strength</code> here, as in the example above.</p>\n",
    "</div>"
   ]
  },
  {
   "cell_type": "code",
   "execution_count": 24,
   "metadata": {
    "colab": {
     "background_save": true
    },
    "id": "BBW9Vl4rN5ep",
    "outputId": "39d57fd3-e250-4826-d0b6-89952b9ae73b"
   },
   "outputs": [
    {
     "name": "stdout",
     "output_type": "stream",
     "text": [
      "\n",
      "Evaluating Config #1 [of 3]:\n",
      " {'learning_rate': 0.01, 'reg': 0.0001}\n",
      "(Epoch 1 / 10) train loss: 2.302609; val loss: 2.302614\n"
     ]
    },
    {
     "name": "stderr",
     "output_type": "stream",
     "text": [
      "C:\\Users\\s9203\\OneDrive\\文件\\2022 SS\\I2DL\\exercise_06\\exercise_code\\networks\\loss.py:170: RuntimeWarning: divide by zero encountered in log\n",
      "  loss = -y_truth_one_hot * np.log(y_out_probs)\n",
      "C:\\Users\\s9203\\OneDrive\\文件\\2022 SS\\I2DL\\exercise_06\\exercise_code\\networks\\loss.py:170: RuntimeWarning: invalid value encountered in multiply\n",
      "  loss = -y_truth_one_hot * np.log(y_out_probs)\n"
     ]
    },
    {
     "name": "stdout",
     "output_type": "stream",
     "text": [
      "(Epoch 2 / 10) train loss: nan; val loss: nan\n",
      "(Epoch 3 / 10) train loss: nan; val loss: nan\n",
      "(Epoch 4 / 10) train loss: nan; val loss: nan\n",
      "(Epoch 5 / 10) train loss: nan; val loss: nan\n",
      "(Epoch 6 / 10) train loss: nan; val loss: nan\n",
      "Stopping early at epoch 5!\n",
      "\n",
      "Evaluating Config #2 [of 3]:\n",
      " {'learning_rate': 0.001, 'reg': 0.0001}\n",
      "(Epoch 1 / 10) train loss: 2.302633; val loss: 2.302615\n",
      "(Epoch 2 / 10) train loss: 2.281759; val loss: 2.177748\n",
      "(Epoch 3 / 10) train loss: 2.073406; val loss: 1.870791\n",
      "(Epoch 4 / 10) train loss: 1.874823; val loss: 1.785089\n",
      "(Epoch 5 / 10) train loss: 1.728715; val loss: 1.838871\n",
      "(Epoch 6 / 10) train loss: 1.612304; val loss: 1.908790\n",
      "(Epoch 7 / 10) train loss: 1.466357; val loss: 1.967784\n",
      "(Epoch 8 / 10) train loss: 1.340395; val loss: 2.028901\n",
      "(Epoch 9 / 10) train loss: 1.182742; val loss: 2.073343\n",
      "Stopping early at epoch 8!\n",
      "\n",
      "Evaluating Config #3 [of 3]:\n",
      " {'learning_rate': 0.0001, 'reg': 0.0001}\n",
      "(Epoch 1 / 10) train loss: 2.302602; val loss: 2.302554\n",
      "(Epoch 2 / 10) train loss: 2.302494; val loss: 2.302132\n",
      "(Epoch 3 / 10) train loss: 2.301776; val loss: 2.301237\n",
      "(Epoch 4 / 10) train loss: 2.300453; val loss: 2.298872\n",
      "(Epoch 5 / 10) train loss: 2.297194; val loss: 2.292527\n",
      "(Epoch 6 / 10) train loss: 2.289067; val loss: 2.276345\n",
      "(Epoch 7 / 10) train loss: 2.271113; val loss: 2.242813\n",
      "(Epoch 8 / 10) train loss: 2.241821; val loss: 2.195597\n",
      "(Epoch 9 / 10) train loss: 2.206739; val loss: 2.150895\n",
      "(Epoch 10 / 10) train loss: 2.167342; val loss: 2.107165\n",
      "\n",
      "Search done. Best Val Loss = 1.785089260087436\n",
      "Best Config: {'learning_rate': 0.001, 'reg': 0.0001}\n"
     ]
    }
   ],
   "source": [
    "from exercise_code.networks import MyOwnNetwork\n",
    "\n",
    "# Specify the used network\n",
    "model_class = MyOwnNetwork\n",
    "\n",
    "from exercise_code import hyperparameter_tuning\n",
    "best_model, results = hyperparameter_tuning.grid_search(\n",
    "    dataloaders['train_small'], dataloaders['val_500files'],\n",
    "    grid_search_spaces = {\n",
    "        \"learning_rate\": [1e-2, 1e-3, 1e-4], \n",
    "        \"reg\": [1e-4]\n",
    "    },\n",
    "    model_class=model_class,\n",
    "    epochs=10, patience=5)"
   ]
  },
  {
   "cell_type": "code",
   "execution_count": 25,
   "metadata": {},
   "outputs": [
    {
     "name": "stdout",
     "output_type": "stream",
     "text": [
      "This is the base class for all networks we will use\n"
     ]
    }
   ],
   "source": [
    "print(best_model)"
   ]
  },
  {
   "cell_type": "markdown",
   "metadata": {
    "id": "5v0g7q9xN5ep"
   },
   "source": [
    "From the results of your grid search, you might already have found some hyperparameter combinations that work better than others. A common practice is to now repeat the grid search on a more narrow domain centered around the parameters that worked best. \n",
    "\n",
    "**Conclusion Grid Search**\n",
    "\n",
    "With grid search we have automated the hyperparameter tuning to a certain degree. Another advantage is, that since the trainings of the models are independent of each other, you can parallelize the grid search, by e.g. trying out different hyperparameter configurations in parallel on different machines.\n",
    "\n",
    "However, as you have probably noticed, there is one big problem with this approach: the number of possible combinations grows exponentially with the number of hyperparameters (\"curse of dimensionality\"). As we add more hyperparameters to the grid search, the search space will explode in time complexity, making this strategy unfeasible."
   ]
  },
  {
   "cell_type": "markdown",
   "metadata": {
    "id": "m_NvhoFcN5ep"
   },
   "source": [
    "Especially when your search space contains more than 3 or 4 dimensions, it is often better to use another, similar hyperparameter tuning method that you've already learned about: random search."
   ]
  },
  {
   "cell_type": "markdown",
   "metadata": {
    "id": "rDyeiAN1N5ep"
   },
   "source": [
    "## 3.2 Random Search\n",
    "Random search is very similar to grid search, with the only difference, that instead of providing specific values for every hyperparameter, you only define a range for each hyperparameter - then, the values are sampled randomly from the provided ranges.\n",
    "\n",
    "![alt text](https://i.stack.imgur.com/cIDuR.png \"\")\n",
    "\n",
    "The figure above illustrates the difference in the hyperparameter space exploration between grid search and random search: assume you have 2 hyperparameters with each 3 values. Running a grid search results in training $3^2=9$ different models - but in the end, you've just tired out 3 values for each parameter. For random search on the other hand, after training 9 models you'll have tried out 9 different values for each hyperparameter, which often leads much faster to good results.\n",
    "\n",
    "To get a deeper understanding of random search and why it is more efficient than grid search, you should definitely check out this paper: http://www.jmlr.org/papers/volume13/bergstra12a/bergstra12a.pdf\n",
    "\n",
    "<div class=\"alert alert-success\">\n",
    "    <h3>Task: Check Code</h3>\n",
    "    <p>Check out our <code>random_search</code> implementation in <code>../exercise_6/exercise_code/hyperparameter_tuning.py</code></p>\n",
    "</div>\n",
    "\n",
    "\n",
    "*Hint: regarding the sample space of each parameter, think about the scale for which it makes most sense to sample in. For example the learning rate is usually sampled on a logarithmic scale!*\n",
    "\n",
    "*For simplicity and speed, just use the `train_batches`-dataloader!*"
   ]
  },
  {
   "cell_type": "code",
   "execution_count": 26,
   "metadata": {
    "colab": {
     "background_save": true
    },
    "id": "d64soT68N5ep",
    "outputId": "eafe47b6-33db-401e-8d4e-96573caa8048"
   },
   "outputs": [
    {
     "name": "stdout",
     "output_type": "stream",
     "text": [
      "\n",
      "Evaluating Config #1 [of 1]:\n",
      " {'learning_rate': 9.920370324810834e-06, 'reg': 3.6689355443654332e-06, 'loss_func': <exercise_code.networks.loss.CrossEntropyFromLogits object at 0x0000028DF1C48D60>}\n",
      "(Epoch 1 / 20) train loss: 2.302439; val loss: 2.302764\n",
      "(Epoch 2 / 20) train loss: 2.302490; val loss: 2.302624\n",
      "(Epoch 3 / 20) train loss: 2.302172; val loss: 2.302713\n",
      "(Epoch 4 / 20) train loss: 2.301856; val loss: 2.302602\n",
      "(Epoch 5 / 20) train loss: 2.301528; val loss: 2.302549\n",
      "(Epoch 6 / 20) train loss: 2.301237; val loss: 2.302417\n",
      "(Epoch 7 / 20) train loss: 2.301014; val loss: 2.302621\n",
      "(Epoch 8 / 20) train loss: 2.300775; val loss: 2.302508\n",
      "(Epoch 9 / 20) train loss: 2.300643; val loss: 2.302593\n",
      "(Epoch 10 / 20) train loss: 2.300468; val loss: 2.302591\n",
      "(Epoch 11 / 20) train loss: 2.300278; val loss: 2.302799\n",
      "Stopping early at epoch 10!\n",
      "\n",
      "Search done. Best Val Loss = 2.3024174188235773\n",
      "Best Config: {'learning_rate': 9.920370324810834e-06, 'reg': 3.6689355443654332e-06, 'loss_func': <exercise_code.networks.loss.CrossEntropyFromLogits object at 0x0000028DF1C48D60>}\n"
     ]
    }
   ],
   "source": [
    "from exercise_code.hyperparameter_tuning import random_search\n",
    "from exercise_code.networks import MyOwnNetwork\n",
    "\n",
    "# Specify the used network\n",
    "model_class = MyOwnNetwork\n",
    "\n",
    "best_model, results = random_search(\n",
    "    dataloaders['train_small'], dataloaders['val_500files'],\n",
    "    random_search_spaces = {\n",
    "        \"learning_rate\": ([1e-2, 1e-6], 'log'),\n",
    "        \"reg\": ([1e-3, 1e-7], \"log\"),\n",
    "        \"loss_func\": ([CrossEntropyFromLogits()], \"item\")\n",
    "    },\n",
    "    model_class=model_class,\n",
    "    num_search = 1, epochs=20, patience=5)"
   ]
  },
  {
   "cell_type": "markdown",
   "metadata": {
    "id": "LayF5YYbN5eq"
   },
   "source": [
    "It's time to run it with the whole dataset, and let it search for a few hours for a nice configuration. \n",
    "\n",
    "However, to save some time, let's first implement an **early-stopping** mechanism, that you also already know from the lecture."
   ]
  },
  {
   "cell_type": "markdown",
   "metadata": {
    "id": "DCaACnn3N5eq"
   },
   "source": [
    "## 3.3 Early Stopping"
   ]
  },
  {
   "cell_type": "markdown",
   "metadata": {
    "id": "IjsO1OPLN5eq"
   },
   "source": [
    "By now you've already seen a lot of training curves:\n",
    "\n",
    "<img src=http://fouryears.eu/wp-content/uploads/2017/12/early_stopping.png></img>\n",
    "\n",
    "Usually, at some point the validation loss goes up again, which is a sign that we're overfitting to our training data. Since it actually doesn't make sense to train further at this point, it's common practice to apply \"early stopping\", i.e., cancel the training process when the validation loss doesn't improve anymore. The nice thing about this concept is, that not only it improves generalization through the prevention of overfitting, but also it saves us a lot of time - one of our most valuable resources in deep learning.\n",
    "\n",
    "Since there are natural fluctuations in the validation loss, you usually don't cancel the training process right at the first epoch when the validation-loss increases, but instead, you wait for some epochs (specified by the `patience`-parameter) and if the loss still doesn't improve, we stop.\n",
    "\n",
    "<div class=\"alert alert-success\">\n",
    "    <h3>Task: Check Code</h3>\n",
    "    <p>Please check the implementation of the early stopping mechanism in <code>../exercise_6/exercise_code/solver.py</code>.\n",
    " </p>\n",
    "</div>"
   ]
  },
  {
   "cell_type": "markdown",
   "metadata": {
    "id": "P8wWTovfN5eq"
   },
   "source": [
    "## 3.4 Let's find the perfect model!"
   ]
  },
  {
   "cell_type": "markdown",
   "metadata": {
    "id": "ksUYQAhgN5eq"
   },
   "source": [
    "Now you've set everything up and you are ready to train your model. You can use a combination of grid and random search to find proper hyperparameters. \n",
    "\n",
    "Be aware that this process will take some time, since we'll be using a much larger dataset.\n",
    "\n",
    "At the beginning, it is a good approach to do a coarse random search across a wide range of values to find promising sub-ranges of your parameter space. Afterwards, you can zoom into these ranges and perform another random search (or grid search) to finetune the configurations.\n",
    "\n",
    "To save time and resources, don't use the whole dataset at the beginning, but instead a medium large subset of the samples. Also, you don't have to train for a large number of epochs - as mentioned above: we first want to get an overview about our hyper parameters.\n",
    "\n",
    "<div class=\"alert alert-info\">\n",
    "    <h3>Task: Hyperparameters Tunning & Model Training </h3>\n",
    "        <p> Now, it is your turn to do the hyperparamater tuning. In the cell below, you can use the <code>random_search</code> function to find a good choice of parameters. Put in some reasonable ranges for the hyperparameters and evaluate them.\n",
    "    <p> <b>Note:</b> At the beginning, it's a good approach to first do a coarse random search across a <b> wide range of values</b> to find promising sub-ranges of your parameter space and use <b> a medium large subset of the dataset </b>. Afterwards, you can zoom into these ranges and do another random search (or grid search) to finetune the configurations. Use the cell below to play around and find good hyperparameters for your model!</p>\n",
    "        <p> Finally, once you've found some promising hyperparameters (or narrowed them down to promising subranges), it's time to utilize these hyperparameters to train your network on the whole dataset for a large number of epochs so that your own model can reach an acceptable performance. \n",
    "        <p> <b>Hint:</b> You may use a <code>Solver</code> class we provided before or directly use the <code>random_search</code> function (as you can also monitor the loss here) for model training.\n",
    "</div>"
   ]
  },
  {
   "cell_type": "code",
   "execution_count": null,
   "metadata": {
    "colab": {
     "background_save": true
    },
    "id": "g2C24gzzN5eq",
    "outputId": "f9a7ca76-0471-44bc-dbb7-ac7f5d14e581"
   },
   "outputs": [
    {
     "name": "stdout",
     "output_type": "stream",
     "text": [
      "\n",
      "Evaluating Config #1 [of 10]:\n",
      " {'learning_rate': 1e-05, 'reg': 1.5906624119549725e-08, 'loss_func': <exercise_code.networks.loss.CrossEntropyFromLogits object at 0x0000028DEEA68820>}\n",
      "(Epoch 1 / 40) train loss: 2.302752; val loss: 2.302384\n",
      "(Epoch 2 / 40) train loss: 2.302772; val loss: 2.302337\n",
      "(Epoch 3 / 40) train loss: 2.302417; val loss: 2.302338\n",
      "(Epoch 4 / 40) train loss: 2.302002; val loss: 2.302195\n",
      "(Epoch 5 / 40) train loss: 2.301677; val loss: 2.302104\n",
      "(Epoch 6 / 40) train loss: 2.301363; val loss: 2.302238\n",
      "(Epoch 7 / 40) train loss: 2.301077; val loss: 2.302214\n",
      "(Epoch 8 / 40) train loss: 2.300987; val loss: 2.302217\n",
      "(Epoch 9 / 40) train loss: 2.300707; val loss: 2.302236\n",
      "(Epoch 10 / 40) train loss: 2.300487; val loss: 2.302345\n",
      "Stopping early at epoch 9!\n",
      "\n",
      "Evaluating Config #2 [of 10]:\n",
      " {'learning_rate': 1e-05, 'reg': 2.0341184187146513e-05, 'loss_func': <exercise_code.networks.loss.CrossEntropyFromLogits object at 0x0000028DEEA68820>}\n",
      "(Epoch 1 / 40) train loss: 2.302647; val loss: 2.302373\n",
      "(Epoch 2 / 40) train loss: 2.302697; val loss: 2.302240\n",
      "(Epoch 3 / 40) train loss: 2.302268; val loss: 2.302208\n",
      "(Epoch 4 / 40) train loss: 2.301935; val loss: 2.302131\n",
      "(Epoch 5 / 40) train loss: 2.301616; val loss: 2.302166\n",
      "(Epoch 6 / 40) train loss: 2.301333; val loss: 2.302070\n",
      "(Epoch 7 / 40) train loss: 2.301060; val loss: 2.302237\n",
      "(Epoch 8 / 40) train loss: 2.300793; val loss: 2.302262\n",
      "(Epoch 9 / 40) train loss: 2.300613; val loss: 2.302245\n",
      "(Epoch 10 / 40) train loss: 2.300500; val loss: 2.302411\n",
      "(Epoch 11 / 40) train loss: 2.300301; val loss: 2.302406\n",
      "Stopping early at epoch 10!\n",
      "\n",
      "Evaluating Config #3 [of 10]:\n",
      " {'learning_rate': 1e-05, 'reg': 0.0018942311580627674, 'loss_func': <exercise_code.networks.loss.CrossEntropyFromLogits object at 0x0000028DEEA68820>}\n",
      "(Epoch 1 / 40) train loss: 2.303099; val loss: 2.302301\n",
      "(Epoch 2 / 40) train loss: 2.303173; val loss: 2.302130\n",
      "(Epoch 3 / 40) train loss: 2.302776; val loss: 2.302371\n",
      "(Epoch 4 / 40) train loss: 2.302398; val loss: 2.302226\n",
      "(Epoch 5 / 40) train loss: 2.302112; val loss: 2.302253\n",
      "(Epoch 6 / 40) train loss: 2.301835; val loss: 2.302480\n",
      "(Epoch 7 / 40) train loss: 2.301616; val loss: 2.302293\n",
      "Stopping early at epoch 6!\n",
      "\n",
      "Evaluating Config #4 [of 10]:\n",
      " {'learning_rate': 1e-05, 'reg': 0.00015612356869476962, 'loss_func': <exercise_code.networks.loss.CrossEntropyFromLogits object at 0x0000028DEEA68820>}\n",
      "(Epoch 1 / 40) train loss: 2.302716; val loss: 2.303335\n",
      "(Epoch 2 / 40) train loss: 2.302756; val loss: 2.303233\n",
      "(Epoch 3 / 40) train loss: 2.302383; val loss: 2.303245\n",
      "(Epoch 4 / 40) train loss: 2.302012; val loss: 2.303043\n",
      "(Epoch 5 / 40) train loss: 2.301711; val loss: 2.302946\n",
      "(Epoch 6 / 40) train loss: 2.301402; val loss: 2.302863\n",
      "(Epoch 7 / 40) train loss: 2.301139; val loss: 2.302835\n",
      "(Epoch 8 / 40) train loss: 2.300930; val loss: 2.302788\n",
      "(Epoch 9 / 40) train loss: 2.300730; val loss: 2.302812\n",
      "(Epoch 10 / 40) train loss: 2.300547; val loss: 2.302739\n",
      "(Epoch 11 / 40) train loss: 2.300371; val loss: 2.302902\n",
      "(Epoch 12 / 40) train loss: 2.300239; val loss: 2.302902\n",
      "(Epoch 13 / 40) train loss: 2.300126; val loss: 2.302832\n",
      "(Epoch 14 / 40) train loss: 2.299987; val loss: 2.302918\n",
      "(Epoch 15 / 40) train loss: 2.299897; val loss: 2.303057\n",
      "Stopping early at epoch 14!\n",
      "\n",
      "Evaluating Config #5 [of 10]:\n",
      " {'learning_rate': 1e-05, 'reg': 0.07119797393071729, 'loss_func': <exercise_code.networks.loss.CrossEntropyFromLogits object at 0x0000028DEEA68820>}\n",
      "(Epoch 1 / 40) train loss: 2.324530; val loss: 2.324925\n",
      "(Epoch 2 / 40) train loss: 2.324558; val loss: 2.324661\n",
      "(Epoch 3 / 40) train loss: 2.323942; val loss: 2.324459\n",
      "(Epoch 4 / 40) train loss: 2.323484; val loss: 2.324159\n",
      "(Epoch 5 / 40) train loss: 2.323057; val loss: 2.324113\n",
      "(Epoch 6 / 40) train loss: 2.322634; val loss: 2.323826\n",
      "(Epoch 7 / 40) train loss: 2.322242; val loss: 2.323633\n",
      "(Epoch 8 / 40) train loss: 2.321908; val loss: 2.323578\n",
      "(Epoch 9 / 40) train loss: 2.321547; val loss: 2.323430\n",
      "(Epoch 10 / 40) train loss: 2.321250; val loss: 2.323389\n",
      "(Epoch 11 / 40) train loss: 2.320947; val loss: 2.323338\n",
      "(Epoch 12 / 40) train loss: 2.320685; val loss: 2.323056\n",
      "(Epoch 13 / 40) train loss: 2.320421; val loss: 2.322954\n",
      "(Epoch 14 / 40) train loss: 2.320153; val loss: 2.322842\n",
      "(Epoch 15 / 40) train loss: 2.319982; val loss: 2.322818\n",
      "(Epoch 16 / 40) train loss: 2.319724; val loss: 2.322799\n",
      "(Epoch 17 / 40) train loss: 2.319531; val loss: 2.322529\n",
      "(Epoch 18 / 40) train loss: 2.319306; val loss: 2.322501\n",
      "(Epoch 19 / 40) train loss: 2.319098; val loss: 2.322502\n",
      "(Epoch 20 / 40) train loss: 2.318918; val loss: 2.322270\n",
      "(Epoch 21 / 40) train loss: 2.318732; val loss: 2.322145\n",
      "(Epoch 22 / 40) train loss: 2.318563; val loss: 2.322034\n",
      "(Epoch 23 / 40) train loss: 2.318388; val loss: 2.322062\n",
      "(Epoch 24 / 40) train loss: 2.318186; val loss: 2.321918\n",
      "(Epoch 25 / 40) train loss: 2.318034; val loss: 2.321819\n",
      "(Epoch 26 / 40) train loss: 2.317832; val loss: 2.321601\n",
      "(Epoch 27 / 40) train loss: 2.317727; val loss: 2.321650\n",
      "(Epoch 28 / 40) train loss: 2.317572; val loss: 2.321515\n",
      "(Epoch 29 / 40) train loss: 2.317355; val loss: 2.321391\n",
      "(Epoch 30 / 40) train loss: 2.317159; val loss: 2.321284\n",
      "(Epoch 31 / 40) train loss: 2.317059; val loss: 2.321120\n",
      "(Epoch 32 / 40) train loss: 2.316849; val loss: 2.321013\n",
      "(Epoch 33 / 40) train loss: 2.316782; val loss: 2.320900\n",
      "(Epoch 34 / 40) train loss: 2.316539; val loss: 2.320890\n",
      "(Epoch 35 / 40) train loss: 2.316396; val loss: 2.320782\n",
      "(Epoch 36 / 40) train loss: 2.316279; val loss: 2.320635\n",
      "(Epoch 37 / 40) train loss: 2.316130; val loss: 2.320651\n",
      "(Epoch 38 / 40) train loss: 2.316009; val loss: 2.320623\n",
      "(Epoch 39 / 40) train loss: 2.315827; val loss: 2.320216\n",
      "(Epoch 40 / 40) train loss: 2.315694; val loss: 2.320254\n",
      "\n",
      "Evaluating Config #6 [of 10]:\n",
      " {'learning_rate': 1e-05, 'reg': 6.167160829065362e-08, 'loss_func': <exercise_code.networks.loss.CrossEntropyFromLogits object at 0x0000028DEEA68820>}\n",
      "(Epoch 1 / 40) train loss: 2.302683; val loss: 2.302849\n",
      "(Epoch 2 / 40) train loss: 2.302756; val loss: 2.302720\n",
      "(Epoch 3 / 40) train loss: 2.302297; val loss: 2.302646\n",
      "(Epoch 4 / 40) train loss: 2.301951; val loss: 2.302583\n",
      "(Epoch 5 / 40) train loss: 2.301687; val loss: 2.302605\n",
      "(Epoch 6 / 40) train loss: 2.301332; val loss: 2.302476\n",
      "(Epoch 7 / 40) train loss: 2.301106; val loss: 2.302514\n",
      "(Epoch 8 / 40) train loss: 2.300928; val loss: 2.302427\n",
      "(Epoch 9 / 40) train loss: 2.300713; val loss: 2.302497\n",
      "(Epoch 10 / 40) train loss: 2.300537; val loss: 2.302503\n",
      "(Epoch 11 / 40) train loss: 2.300349; val loss: 2.302698\n",
      "(Epoch 12 / 40) train loss: 2.300205; val loss: 2.302731\n",
      "(Epoch 13 / 40) train loss: 2.300101; val loss: 2.302690\n",
      "Stopping early at epoch 12!\n",
      "\n",
      "Evaluating Config #7 [of 10]:\n",
      " {'learning_rate': 1e-05, 'reg': 0.012598293081309784, 'loss_func': <exercise_code.networks.loss.CrossEntropyFromLogits object at 0x0000028DEEA68820>}\n",
      "(Epoch 1 / 40) train loss: 2.306567; val loss: 2.305776\n",
      "(Epoch 2 / 40) train loss: 2.306625; val loss: 2.305765\n",
      "(Epoch 3 / 40) train loss: 2.306215; val loss: 2.305613\n",
      "(Epoch 4 / 40) train loss: 2.305859; val loss: 2.305582\n",
      "(Epoch 5 / 40) train loss: 2.305507; val loss: 2.305742\n",
      "(Epoch 6 / 40) train loss: 2.305243; val loss: 2.305698\n",
      "(Epoch 7 / 40) train loss: 2.304946; val loss: 2.305790\n",
      "(Epoch 8 / 40) train loss: 2.304752; val loss: 2.305849\n",
      "(Epoch 9 / 40) train loss: 2.304550; val loss: 2.305902\n",
      "Stopping early at epoch 8!\n",
      "\n",
      "Evaluating Config #8 [of 10]:\n",
      " {'learning_rate': 1e-05, 'reg': 5.221104798920817e-06, 'loss_func': <exercise_code.networks.loss.CrossEntropyFromLogits object at 0x0000028DEEA68820>}\n",
      "(Epoch 1 / 40) train loss: 2.302569; val loss: 2.302417\n",
      "(Epoch 2 / 40) train loss: 2.302642; val loss: 2.302252\n",
      "(Epoch 3 / 40) train loss: 2.302249; val loss: 2.302251\n",
      "(Epoch 4 / 40) train loss: 2.301834; val loss: 2.302279\n",
      "(Epoch 5 / 40) train loss: 2.301538; val loss: 2.302346\n",
      "(Epoch 6 / 40) train loss: 2.301298; val loss: 2.302254\n",
      "(Epoch 7 / 40) train loss: 2.300994; val loss: 2.302270\n",
      "(Epoch 8 / 40) train loss: 2.300834; val loss: 2.302326\n",
      "Stopping early at epoch 7!\n",
      "\n",
      "Evaluating Config #9 [of 10]:\n",
      " {'learning_rate': 1e-05, 'reg': 0.009996086972384311, 'loss_func': <exercise_code.networks.loss.CrossEntropyFromLogits object at 0x0000028DEEA68820>}\n"
     ]
    },
    {
     "name": "stdout",
     "output_type": "stream",
     "text": [
      "(Epoch 1 / 40) train loss: 2.305981; val loss: 2.306158\n",
      "(Epoch 2 / 40) train loss: 2.306006; val loss: 2.305926\n",
      "(Epoch 3 / 40) train loss: 2.305581; val loss: 2.305910\n",
      "(Epoch 4 / 40) train loss: 2.305170; val loss: 2.305733\n",
      "(Epoch 5 / 40) train loss: 2.304871; val loss: 2.305814\n",
      "(Epoch 6 / 40) train loss: 2.304565; val loss: 2.305886\n",
      "(Epoch 7 / 40) train loss: 2.304285; val loss: 2.305697\n",
      "(Epoch 8 / 40) train loss: 2.304049; val loss: 2.305628\n",
      "(Epoch 9 / 40) train loss: 2.303838; val loss: 2.305813\n",
      "(Epoch 10 / 40) train loss: 2.303641; val loss: 2.305687\n",
      "(Epoch 11 / 40) train loss: 2.303499; val loss: 2.305734\n",
      "(Epoch 12 / 40) train loss: 2.303375; val loss: 2.305837\n",
      "(Epoch 13 / 40) train loss: 2.303201; val loss: 2.305712\n",
      "Stopping early at epoch 12!\n",
      "\n",
      "Evaluating Config #10 [of 10]:\n",
      " {'learning_rate': 1e-05, 'reg': 0.047581263829473454, 'loss_func': <exercise_code.networks.loss.CrossEntropyFromLogits object at 0x0000028DEEA68820>}\n",
      "(Epoch 1 / 40) train loss: 2.317321; val loss: 2.317789\n",
      "(Epoch 2 / 40) train loss: 2.317348; val loss: 2.317580\n",
      "(Epoch 3 / 40) train loss: 2.316884; val loss: 2.317358\n",
      "(Epoch 4 / 40) train loss: 2.316492; val loss: 2.317318\n",
      "(Epoch 5 / 40) train loss: 2.316059; val loss: 2.317140\n",
      "(Epoch 6 / 40) train loss: 2.315669; val loss: 2.317203\n",
      "(Epoch 7 / 40) train loss: 2.315389; val loss: 2.316934\n",
      "(Epoch 8 / 40) train loss: 2.315084; val loss: 2.316857\n",
      "(Epoch 9 / 40) train loss: 2.314839; val loss: 2.316900\n",
      "(Epoch 10 / 40) train loss: 2.314611; val loss: 2.316867\n",
      "(Epoch 11 / 40) train loss: 2.314381; val loss: 2.316740\n",
      "(Epoch 12 / 40) train loss: 2.314182; val loss: 2.316730\n",
      "(Epoch 13 / 40) train loss: 2.313981; val loss: 2.316713\n",
      "(Epoch 14 / 40) train loss: 2.313833; val loss: 2.316644\n",
      "(Epoch 15 / 40) train loss: 2.313640; val loss: 2.316563\n",
      "(Epoch 16 / 40) train loss: 2.313460; val loss: 2.316635\n",
      "(Epoch 17 / 40) train loss: 2.313360; val loss: 2.316621\n",
      "(Epoch 18 / 40) train loss: 2.313261; val loss: 2.316528\n",
      "(Epoch 19 / 40) train loss: 2.313109; val loss: 2.316372\n",
      "(Epoch 20 / 40) train loss: 2.313030; val loss: 2.316503\n",
      "(Epoch 21 / 40) train loss: 2.312888; val loss: 2.316396\n",
      "(Epoch 22 / 40) train loss: 2.312758; val loss: 2.316362\n",
      "(Epoch 23 / 40) train loss: 2.312594; val loss: 2.316338\n",
      "(Epoch 24 / 40) train loss: 2.312528; val loss: 2.316254\n",
      "(Epoch 25 / 40) train loss: 2.312450; val loss: 2.316227\n",
      "(Epoch 26 / 40) train loss: 2.312301; val loss: 2.316188\n",
      "(Epoch 27 / 40) train loss: 2.312184; val loss: 2.316193\n",
      "(Epoch 28 / 40) train loss: 2.312099; val loss: 2.316186\n",
      "(Epoch 29 / 40) train loss: 2.311984; val loss: 2.316161\n",
      "(Epoch 30 / 40) train loss: 2.311939; val loss: 2.316145\n",
      "(Epoch 31 / 40) train loss: 2.311820; val loss: 2.316025\n",
      "(Epoch 32 / 40) train loss: 2.311687; val loss: 2.315952\n",
      "(Epoch 33 / 40) train loss: 2.311657; val loss: 2.315948\n"
     ]
    }
   ],
   "source": [
    "from exercise_code.networks import MyOwnNetwork\n",
    "\n",
    "best_model = MyOwnNetwork()\n",
    "\n",
    "########################################################################\n",
    "# TODO:                                                                #\n",
    "# Implement your own neural network and find suitable hyperparameters  #\n",
    "# Be sure to edit the MyOwnNetwork class in the following code snippet #\n",
    "# to upload the correct model!                                         #\n",
    "########################################################################\n",
    "\n",
    "from exercise_code import hyperparameter_tuning\n",
    "model_class = MyOwnNetwork\n",
    "\n",
    "best_model, results = random_search(\n",
    "    dataloaders['train_small'], dataloaders['val_500files'],\n",
    "    random_search_spaces = {\n",
    "        \"learning_rate\": ([0.00001,0.00001], 'log'),\n",
    "        \"reg\": ([1e-1, 1e-10], \"log\"),\n",
    "        \"loss_func\": ([CrossEntropyFromLogits()], \"item\")\n",
    "    },\n",
    "    model_class=model_class,\n",
    "    num_search = 10, epochs=40, patience=5)\n",
    "\n",
    "\n",
    "# best_model, results = hyperparameter_tuning.grid_search(\n",
    "#     dataloaders['train_small'], dataloaders['val_500files'],\n",
    "#     grid_search_spaces = {\n",
    "#         \"learning_rate\": [1e-2, 1e-3, 1e-4], \n",
    "#         \"reg\": [1e-3,1e-4,1e-5]\n",
    "#     },\n",
    "#     model_class=model_class,\n",
    "#     epochs=10, patience=5)\n",
    "\n",
    "# epochs = 10\n",
    "# num_layer = 2\n",
    "# reg = 8.414130942549242e-05\n",
    "# learning_rate = 0.0003305672314081748\n",
    "\n",
    "# best_model = ClassificationNet(num_layer=num_layer, reg=reg)\n",
    "# best_model = MyOwnNetwork()\n",
    "\n",
    "# # Change here if you want to use the full training set\n",
    "# use_full_training_set = False\n",
    "# if not use_full_training_set:\n",
    "#     train_loader = dataloaders['train_small']\n",
    "# else:\n",
    "#     train_loader = dataloaders['train']\n",
    "\n",
    "# loss = CrossEntropyFromLogits()\n",
    "\n",
    "# best_model = Solver(best_model, train_loader, dataloaders['val'], \n",
    "#                 learning_rate=1e-3, loss_func=loss, optimizer=Adam)\n",
    "\n",
    "# best_model.train(epochs=epochs)\n",
    "\n",
    "########################################################################\n",
    "#                           END OF YOUR CODE                           #\n",
    "########################################################################"
   ]
  },
  {
   "cell_type": "markdown",
   "metadata": {
    "id": "gmZbWaaIN5er"
   },
   "source": [
    "Now it's time to edit the ranges above and adjust them to explore regions that performed well!\n",
    "\n",
    "Also, feel free to experiment around. Other hyperparameters you can change are the network architecture, optimizer, activations functions and many more.\n",
    "\n",
    "Try to get an accuracy as high as possible, since that's all what counts for this submission!\n",
    "\n",
    "You'll pass if you reach at least **48%** accuracy on our test set - but there will also be a leaderboard of all students of this course. Can you make it to the top?"
   ]
  },
  {
   "cell_type": "markdown",
   "metadata": {
    "id": "mJZ7UXHeN5er"
   },
   "source": [
    "## 3.5 Checking the validation accuracy"
   ]
  },
  {
   "cell_type": "code",
   "execution_count": 44,
   "metadata": {
    "colab": {
     "background_save": true
    },
    "id": "qPyHczNJN5er",
    "outputId": "7cbc0fbb-2d6e-49a1-d518-83e2260ea339"
   },
   "outputs": [
    {
     "name": "stdout",
     "output_type": "stream",
     "text": [
      "Train Accuracy: 10.012686965811966%\n",
      "Validation Accuracy: 10.056089743589745%\n"
     ]
    }
   ],
   "source": [
    "labels, pred, acc = best_model.get_dataset_prediction(dataloaders['train'])\n",
    "print(\"Train Accuracy: {}%\".format(acc*100))\n",
    "labels, pred, acc = best_model.get_dataset_prediction(dataloaders['val'])\n",
    "print(\"Validation Accuracy: {}%\".format(acc*100))"
   ]
  },
  {
   "cell_type": "markdown",
   "metadata": {
    "id": "MQ_AGtp8N5er"
   },
   "source": [
    "# 4. Test your model\n",
    "When you have finished the hyperparameter tuning and you found your final model which performs well on the validation set (**you should at least get 48% accuracy on the validation set!**), it's time to run your model on the test set.\n",
    "\n",
    "<div class=\"alert alert-danger\">\n",
    "    <h3>Important</h3>\n",
    "    <p>As you have learned in the lecture, you must only use the test set once! So only run the next cell if you are completely sure that your model works well enough and that you are ready to submit. Your test set is different from the test set on our server, so results may vary a bit. Nevertheless, you will get a reasonable approximation of your model's performance if you perform the final evaluation on the test set only once.</p>\n",
    "    <p>If you are an external student that can't use our submission webpage: this test performance is your final result and if you surpassed the threshold, you have completed this exercise :). Now, train again to aim for a better number!</p>\n",
    "</div>"
   ]
  },
  {
   "cell_type": "code",
   "execution_count": 32,
   "metadata": {
    "colab": {
     "background_save": true
    },
    "id": "xJ2lwiVUN5er",
    "outputId": "82f45e2a-7357-4444-d8c7-2296b7f6cb68"
   },
   "outputs": [
    {
     "name": "stdout",
     "output_type": "stream",
     "text": [
      "Test Accuracy: 32.75240384615385%\n"
     ]
    }
   ],
   "source": [
    "# comment this part out to see your model's performance on the test set.\n",
    "labels, pred, acc = best_model.get_dataset_prediction(dataloaders['test'])\n",
    "print(\"Test Accuracy: {}%\".format(acc*100))\n"
   ]
  },
  {
   "cell_type": "markdown",
   "metadata": {
    "id": "K3MBnG7qN5er"
   },
   "source": [
    "<div class=\"alert alert-warning\">\n",
    "    <h3>Note:</h3>\n",
    "    <p>The \"real\" test set is actually the dataset we're using for testing your model, which is <b>different</b> from the test-set you're using here.</p>\n",
    "</div>"
   ]
  },
  {
   "cell_type": "markdown",
   "metadata": {
    "id": "2lOy_GulN5es"
   },
   "source": [
    "# 5. Saving your Model"
   ]
  },
  {
   "cell_type": "code",
   "execution_count": null,
   "metadata": {
    "colab": {
     "background_save": true
    },
    "id": "icgNMAlEN5es"
   },
   "outputs": [],
   "source": [
    "from exercise_code.tests import save_pickle\n",
    "save_pickle({\"cifar_fcn\": best_model}, \"cifar_fcn.p\")"
   ]
  },
  {
   "cell_type": "code",
   "execution_count": null,
   "metadata": {
    "colab": {
     "background_save": true
    },
    "id": "Gd4TchGlN5es",
    "outputId": "b913c1bd-b861-47bb-c257-b30fa214e761"
   },
   "outputs": [],
   "source": [
    "from exercise_code.submit import submit_exercise\n",
    "\n",
    "submit_exercise('../output/exercise06')"
   ]
  },
  {
   "cell_type": "markdown",
   "metadata": {
    "id": "q5C_bKa5N5es"
   },
   "source": [
    "# 6. Submission Instructions\n",
    "\n",
    "Congratulations! You've just built your first image classifier! To complete the exercise, submit your final model to our submission portal - you probably know the procedure by now.\n",
    "\n",
    "1. Go on [our submission page](https://i2dl.dvl.in.tum.de/), register for an account and login. We use your matriculation number and send you an email with the login details to the associated mail account. When in doubt, login into tum-online and check your mails there. You will get an id which we'll need in the next step.\n",
    "2. Log into [our submission page](https://i2dl.dvl.in.tum.de/), with your account details and upload the zip file.\n",
    "3. Your submission will be evaluated by our system and you will get feedback about the performance of it. You will get an email with your score, as well as a message if you have surpassed the threshold or not.\n",
    "4. Within the working period, you can submit as many solutions as you want to get the best possible score.\n",
    "\n",
    "\n",
    "# 7. Submission Goals\n",
    "\n",
    "- Goal: Successfully implement a fully connected NN image classifier and tune the hyperparameters.\n",
    "\n",
    "- Passing Criteria: This time, there are no unit tests checking specific components of your code. To  pass the submission your model needs to reach at least **48% accuracy** on __our__ test dataset. The submission system will show you a number between 0 and 100 which corresponds to your accuracy.\n",
    "\n",
    "- Submission start: __June 14, 2022 16:00__\n",
    "- Submission deadline : __June 20, 2022 23:59__ \n",
    "- You can make **$\\infty$** submissions until the deadline. Your __best submission__ will be considered for the bonus."
   ]
  },
  {
   "cell_type": "markdown",
   "metadata": {},
   "source": [
    "# [Exercise Review](https://docs.google.com/forms/d/e/1FAIpQLScwZArz6ogLqBEj--ItB6unKcv0u9gWLj8bspeiATrDnFH9hA/viewform)\n",
    "We are always interested in your opinion. Now that you have finished this exercise, we would like you to give us some feedback about the time required to finish the submission and/or work through the notebooks. Please take the short time to fill out our [review form](https://docs.google.com/forms/d/e/1FAIpQLScwZArz6ogLqBEj--ItB6unKcv0u9gWLj8bspeiATrDnFH9hA/viewform) for this exercise so that we can do better next time! :)"
   ]
  }
 ],
 "metadata": {
  "colab": {
   "collapsed_sections": [
    "WKNRU4BWN5eg",
    "3MhxqP2LN5ej",
    "dbFSP4z9N5ek",
    "0TE2PxMBN5ek",
    "QUFotyERN5ek",
    "l0pZa4weN5eo",
    "rDyeiAN1N5ep",
    "DCaACnn3N5eq",
    "P8wWTovfN5eq",
    "mJZ7UXHeN5er"
   ],
   "name": "1.cifar10_classification.ipynb",
   "provenance": []
  },
  "kernelspec": {
   "display_name": "Python 3 (ipykernel)",
   "language": "python",
   "name": "python3"
  },
  "language_info": {
   "codemirror_mode": {
    "name": "ipython",
    "version": 3
   },
   "file_extension": ".py",
   "mimetype": "text/x-python",
   "name": "python",
   "nbconvert_exporter": "python",
   "pygments_lexer": "ipython3",
   "version": "3.8.8"
  }
 },
 "nbformat": 4,
 "nbformat_minor": 1
}
